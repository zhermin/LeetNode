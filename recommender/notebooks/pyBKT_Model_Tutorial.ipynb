{
  "cells": [
    {
      "cell_type": "markdown",
      "metadata": {
        "id": "DxhLN0z_Lavy"
      },
      "source": [
        "# pyBKT Model Tutorial\n",
        "\n",
        "This is a tutorial that explores the basic features of pyBKT, ranging from model creation, fitting, prediction, evaluation and crossvalidation. We will be using the skills contained within the Cognitive Tutor and 2009-2010 Assistments datasets to demonstrate these features."
      ]
    },
    {
      "cell_type": "code",
      "execution_count": 1,
      "metadata": {},
      "outputs": [
        {
          "name": "stdout",
          "output_type": "stream",
          "text": [
            "/bin/bash: /home/zhermin/anaconda3/lib/libtinfo.so.6: no version information available (required by /bin/bash)\n",
            "Requirement already satisfied: fastapi==0.100.0 in /home/zhermin/anaconda3/envs/pybkt/lib/python3.11/site-packages (from -r ../requirements.txt (line 1)) (0.100.0)\n",
            "Requirement already satisfied: pyBKT==1.4.1 in /home/zhermin/anaconda3/envs/pybkt/lib/python3.11/site-packages (from -r ../requirements.txt (line 2)) (1.4.1)\n",
            "Requirement already satisfied: redis==4.6.0 in /home/zhermin/anaconda3/envs/pybkt/lib/python3.11/site-packages (from -r ../requirements.txt (line 3)) (4.6.0)\n",
            "Requirement already satisfied: scikit-learn==1.3.0 in /home/zhermin/anaconda3/envs/pybkt/lib/python3.11/site-packages (from -r ../requirements.txt (line 4)) (1.3.0)\n",
            "Requirement already satisfied: uvicorn==0.23.1 in /home/zhermin/anaconda3/envs/pybkt/lib/python3.11/site-packages (from -r ../requirements.txt (line 5)) (0.23.1)\n",
            "Requirement already satisfied: pydantic!=1.8,!=1.8.1,!=2.0.0,!=2.0.1,<3.0.0,>=1.7.4 in /home/zhermin/anaconda3/envs/pybkt/lib/python3.11/site-packages (from fastapi==0.100.0->-r ../requirements.txt (line 1)) (1.10.11)\n",
            "Requirement already satisfied: starlette<0.28.0,>=0.27.0 in /home/zhermin/anaconda3/envs/pybkt/lib/python3.11/site-packages (from fastapi==0.100.0->-r ../requirements.txt (line 1)) (0.27.0)\n",
            "Requirement already satisfied: typing-extensions>=4.5.0 in /home/zhermin/anaconda3/envs/pybkt/lib/python3.11/site-packages (from fastapi==0.100.0->-r ../requirements.txt (line 1)) (4.7.1)\n",
            "Requirement already satisfied: numpy in /home/zhermin/anaconda3/envs/pybkt/lib/python3.11/site-packages (from pyBKT==1.4.1->-r ../requirements.txt (line 2)) (1.25.1)\n",
            "Requirement already satisfied: pandas in /home/zhermin/anaconda3/envs/pybkt/lib/python3.11/site-packages (from pyBKT==1.4.1->-r ../requirements.txt (line 2)) (2.0.3)\n",
            "Requirement already satisfied: requests in /home/zhermin/anaconda3/envs/pybkt/lib/python3.11/site-packages (from pyBKT==1.4.1->-r ../requirements.txt (line 2)) (2.29.0)\n",
            "Requirement already satisfied: scipy>=1.5.0 in /home/zhermin/anaconda3/envs/pybkt/lib/python3.11/site-packages (from scikit-learn==1.3.0->-r ../requirements.txt (line 4)) (1.11.1)\n",
            "Requirement already satisfied: joblib>=1.1.1 in /home/zhermin/anaconda3/envs/pybkt/lib/python3.11/site-packages (from scikit-learn==1.3.0->-r ../requirements.txt (line 4)) (1.3.1)\n",
            "Requirement already satisfied: threadpoolctl>=2.0.0 in /home/zhermin/anaconda3/envs/pybkt/lib/python3.11/site-packages (from scikit-learn==1.3.0->-r ../requirements.txt (line 4)) (3.2.0)\n",
            "Requirement already satisfied: click>=7.0 in /home/zhermin/anaconda3/envs/pybkt/lib/python3.11/site-packages (from uvicorn==0.23.1->-r ../requirements.txt (line 5)) (8.1.6)\n",
            "Requirement already satisfied: h11>=0.8 in /home/zhermin/anaconda3/envs/pybkt/lib/python3.11/site-packages (from uvicorn==0.23.1->-r ../requirements.txt (line 5)) (0.14.0)\n",
            "Requirement already satisfied: anyio<5,>=3.4.0 in /home/zhermin/anaconda3/envs/pybkt/lib/python3.11/site-packages (from starlette<0.28.0,>=0.27.0->fastapi==0.100.0->-r ../requirements.txt (line 1)) (3.7.1)\n",
            "Requirement already satisfied: python-dateutil>=2.8.2 in /home/zhermin/anaconda3/envs/pybkt/lib/python3.11/site-packages (from pandas->pyBKT==1.4.1->-r ../requirements.txt (line 2)) (2.8.2)\n",
            "Requirement already satisfied: pytz>=2020.1 in /home/zhermin/anaconda3/envs/pybkt/lib/python3.11/site-packages (from pandas->pyBKT==1.4.1->-r ../requirements.txt (line 2)) (2023.3)\n",
            "Requirement already satisfied: tzdata>=2022.1 in /home/zhermin/anaconda3/envs/pybkt/lib/python3.11/site-packages (from pandas->pyBKT==1.4.1->-r ../requirements.txt (line 2)) (2023.3)\n",
            "Requirement already satisfied: charset-normalizer<4,>=2 in /home/zhermin/anaconda3/envs/pybkt/lib/python3.11/site-packages (from requests->pyBKT==1.4.1->-r ../requirements.txt (line 2)) (3.2.0)\n",
            "Requirement already satisfied: idna<4,>=2.5 in /home/zhermin/anaconda3/envs/pybkt/lib/python3.11/site-packages (from requests->pyBKT==1.4.1->-r ../requirements.txt (line 2)) (3.4)\n",
            "Requirement already satisfied: urllib3<1.27,>=1.21.1 in /home/zhermin/anaconda3/envs/pybkt/lib/python3.11/site-packages (from requests->pyBKT==1.4.1->-r ../requirements.txt (line 2)) (1.26.16)\n",
            "Requirement already satisfied: certifi>=2017.4.17 in /home/zhermin/anaconda3/envs/pybkt/lib/python3.11/site-packages (from requests->pyBKT==1.4.1->-r ../requirements.txt (line 2)) (2023.7.22)\n",
            "Requirement already satisfied: sniffio>=1.1 in /home/zhermin/anaconda3/envs/pybkt/lib/python3.11/site-packages (from anyio<5,>=3.4.0->starlette<0.28.0,>=0.27.0->fastapi==0.100.0->-r ../requirements.txt (line 1)) (1.3.0)\n",
            "Requirement already satisfied: six>=1.5 in /home/zhermin/anaconda3/envs/pybkt/lib/python3.11/site-packages (from python-dateutil>=2.8.2->pandas->pyBKT==1.4.1->-r ../requirements.txt (line 2)) (1.16.0)\n",
            "Note: you may need to restart the kernel to use updated packages.\n"
          ]
        }
      ],
      "source": [
        "# Install dependencies\n",
        "%pip install -r ../requirements.txt"
      ]
    },
    {
      "cell_type": "code",
      "execution_count": 2,
      "metadata": {},
      "outputs": [
        {
          "name": "stdout",
          "output_type": "stream",
          "text": [
            "/bin/bash: /home/zhermin/anaconda3/lib/libtinfo.so.6: no version information available (required by /bin/bash)\n",
            "Collecting matplotlib\n",
            "  Downloading matplotlib-3.7.2-cp311-cp311-manylinux_2_17_x86_64.manylinux2014_x86_64.whl (11.6 MB)\n",
            "\u001b[2K     \u001b[90m━━━━━━━━━━━━━━━━━━━━━━━━━━━━━━━━━━━━━━━━\u001b[0m \u001b[32m11.6/11.6 MB\u001b[0m \u001b[31m37.2 MB/s\u001b[0m eta \u001b[36m0:00:00\u001b[0m00:01\u001b[0m00:01\u001b[0m\n",
            "\u001b[?25hCollecting contourpy>=1.0.1 (from matplotlib)\n",
            "  Downloading contourpy-1.1.0-cp311-cp311-manylinux_2_17_x86_64.manylinux2014_x86_64.whl (300 kB)\n",
            "\u001b[2K     \u001b[90m━━━━━━━━━━━━━━━━━━━━━━━━━━━━━━━━━━━━━━\u001b[0m \u001b[32m300.4/300.4 kB\u001b[0m \u001b[31m22.3 MB/s\u001b[0m eta \u001b[36m0:00:00\u001b[0m\n",
            "\u001b[?25hCollecting cycler>=0.10 (from matplotlib)\n",
            "  Using cached cycler-0.11.0-py3-none-any.whl (6.4 kB)\n",
            "Collecting fonttools>=4.22.0 (from matplotlib)\n",
            "  Downloading fonttools-4.41.1-cp311-cp311-manylinux_2_17_x86_64.manylinux2014_x86_64.whl (4.9 MB)\n",
            "\u001b[2K     \u001b[90m━━━━━━━━━━━━━━━━━━━━━━━━━━━━━━━━━━━━━━━━\u001b[0m \u001b[32m4.9/4.9 MB\u001b[0m \u001b[31m36.6 MB/s\u001b[0m eta \u001b[36m0:00:00\u001b[0ma \u001b[36m0:00:01\u001b[0m\n",
            "\u001b[?25hCollecting kiwisolver>=1.0.1 (from matplotlib)\n",
            "  Using cached kiwisolver-1.4.4-cp311-cp311-manylinux_2_17_x86_64.manylinux2014_x86_64.whl (1.4 MB)\n",
            "Requirement already satisfied: numpy>=1.20 in /home/zhermin/anaconda3/envs/pybkt/lib/python3.11/site-packages (from matplotlib) (1.25.1)\n",
            "Requirement already satisfied: packaging>=20.0 in /home/zhermin/anaconda3/envs/pybkt/lib/python3.11/site-packages (from matplotlib) (23.1)\n",
            "Collecting pillow>=6.2.0 (from matplotlib)\n",
            "  Downloading Pillow-10.0.0-cp311-cp311-manylinux_2_28_x86_64.whl (3.4 MB)\n",
            "\u001b[2K     \u001b[90m━━━━━━━━━━━━━━━━━━━━━━━━━━━━━━━━━━━━━━━━\u001b[0m \u001b[32m3.4/3.4 MB\u001b[0m \u001b[31m28.3 MB/s\u001b[0m eta \u001b[36m0:00:00\u001b[0ma \u001b[36m0:00:01\u001b[0m\n",
            "\u001b[?25hCollecting pyparsing<3.1,>=2.3.1 (from matplotlib)\n",
            "  Using cached pyparsing-3.0.9-py3-none-any.whl (98 kB)\n",
            "Requirement already satisfied: python-dateutil>=2.7 in /home/zhermin/anaconda3/envs/pybkt/lib/python3.11/site-packages (from matplotlib) (2.8.2)\n",
            "Requirement already satisfied: six>=1.5 in /home/zhermin/anaconda3/envs/pybkt/lib/python3.11/site-packages (from python-dateutil>=2.7->matplotlib) (1.16.0)\n",
            "Installing collected packages: pyparsing, pillow, kiwisolver, fonttools, cycler, contourpy, matplotlib\n",
            "  Attempting uninstall: pyparsing\n",
            "    Found existing installation: pyparsing 3.1.0\n",
            "    Uninstalling pyparsing-3.1.0:\n",
            "      Successfully uninstalled pyparsing-3.1.0\n",
            "Successfully installed contourpy-1.1.0 cycler-0.11.0 fonttools-4.41.1 kiwisolver-1.4.4 matplotlib-3.7.2 pillow-10.0.0 pyparsing-3.0.9\n",
            "Note: you may need to restart the kernel to use updated packages.\n"
          ]
        }
      ],
      "source": [
        "# Install matplotlib only for this notebook\n",
        "%pip install matplotlib"
      ]
    },
    {
      "cell_type": "code",
      "execution_count": 3,
      "metadata": {
        "colab": {
          "base_uri": "https://localhost:8080/"
        },
        "id": "FR0xFmRapK-e",
        "outputId": "31562380-2b63-46d8-af0c-521ece424366"
      },
      "outputs": [],
      "source": [
        "# Import all required packages including pyBKT.models.Model\n",
        "import numpy as np\n",
        "import pandas as pd\n",
        "from pyBKT.models import Model\n",
        "import matplotlib.pyplot as plt"
      ]
    },
    {
      "cell_type": "markdown",
      "metadata": {
        "id": "8vXtO4xCL_7p"
      },
      "source": [
        "### Basic Model Creation and Evaluation\n",
        "\n",
        "Initialize the model with an optional seed and number of fit initializations. Note that the Model constructor supports many more parameters such as the model variant (which can be modified at fit time), whether to parallelize computation, and more."
      ]
    },
    {
      "cell_type": "code",
      "execution_count": 2,
      "metadata": {
        "id": "SDSfYxsrpQEb"
      },
      "outputs": [],
      "source": [
        "# Note that the seed chosen is so we can consistently\n",
        "# replicate the results and avoid as much randomness\n",
        "# as possible.\n",
        "model = Model(seed = 42, num_fits = 1)"
      ]
    },
    {
      "cell_type": "markdown",
      "metadata": {
        "id": "b00tYJERMPBr"
      },
      "source": [
        "Fetch Assistments and CognitiveTutor data to the local disk. We will be using these datasets, but you can use any that you see fit when you use pyBKT. The data formats accepted by pyBKT are comma separated and tab separated files (note that pyBKT will automatically infer which is passed in). Note that the correctness is given by -1 (no response), 0 (incorrect), or 1 (correct)."
      ]
    },
    {
      "cell_type": "code",
      "execution_count": null,
      "metadata": {
        "id": "OWu1ZaT_qP9Z"
      },
      "outputs": [],
      "source": [
        "model.fetch_dataset('https://raw.githubusercontent.com/CAHLR/pyBKT-examples/master/data/as.csv', '.')\n",
        "model.fetch_dataset('https://raw.githubusercontent.com/CAHLR/pyBKT-examples/master/data/ct.csv', '.')"
      ]
    },
    {
      "cell_type": "markdown",
      "metadata": {
        "id": "DTKs7JGSMu1G"
      },
      "source": [
        "We open the given datasets and explore them before using them to fit BKT models using pyBKT. Note that the column names describing the student ID, the problem name, the response's correctness and skill name all differ between the two datasets."
      ]
    },
    {
      "cell_type": "code",
      "execution_count": 2,
      "metadata": {
        "colab": {
          "base_uri": "https://localhost:8080/",
          "height": 729
        },
        "id": "hg06svJsM6oj",
        "outputId": "f06b1984-c096-4ab4-99a2-33c59fcf3e9f"
      },
      "outputs": [
        {
          "name": "stdout",
          "output_type": "stream",
          "text": [
            "Index(['Unnamed: 0', 'Row', 'Anon Student Id', 'Problem Hierarchy',\n",
            "       'Problem Name', 'Problem View', 'Step Name', 'Step Start Time',\n",
            "       'First Transaction Time', 'Correct Transaction Time', 'Step End Time',\n",
            "       'Step Duration (sec)', 'Correct Step Duration (sec)',\n",
            "       'Error Step Duration (sec)', 'Correct First Attempt', 'Incorrects',\n",
            "       'Hints', 'Corrects', 'KC(Default)', 'Opportunity(Default)'],\n",
            "      dtype='object')\n"
          ]
        },
        {
          "data": {
            "text/html": [
              "<div>\n",
              "<style scoped>\n",
              "    .dataframe tbody tr th:only-of-type {\n",
              "        vertical-align: middle;\n",
              "    }\n",
              "\n",
              "    .dataframe tbody tr th {\n",
              "        vertical-align: top;\n",
              "    }\n",
              "\n",
              "    .dataframe thead th {\n",
              "        text-align: right;\n",
              "    }\n",
              "</style>\n",
              "<table border=\"1\" class=\"dataframe\">\n",
              "  <thead>\n",
              "    <tr style=\"text-align: right;\">\n",
              "      <th></th>\n",
              "      <th>Unnamed: 0</th>\n",
              "      <th>Row</th>\n",
              "      <th>Anon Student Id</th>\n",
              "      <th>Problem Hierarchy</th>\n",
              "      <th>Problem Name</th>\n",
              "      <th>Problem View</th>\n",
              "      <th>Step Name</th>\n",
              "      <th>Step Start Time</th>\n",
              "      <th>First Transaction Time</th>\n",
              "      <th>Correct Transaction Time</th>\n",
              "      <th>Step End Time</th>\n",
              "      <th>Step Duration (sec)</th>\n",
              "      <th>Correct Step Duration (sec)</th>\n",
              "      <th>Error Step Duration (sec)</th>\n",
              "      <th>Correct First Attempt</th>\n",
              "      <th>Incorrects</th>\n",
              "      <th>Hints</th>\n",
              "      <th>Corrects</th>\n",
              "      <th>KC(Default)</th>\n",
              "      <th>Opportunity(Default)</th>\n",
              "    </tr>\n",
              "  </thead>\n",
              "  <tbody>\n",
              "    <tr>\n",
              "      <th>0</th>\n",
              "      <td>1576</td>\n",
              "      <td>1927</td>\n",
              "      <td>745Yh</td>\n",
              "      <td>Unit RATIO-PROPORTION, Section RATIO-PROPORTION-2</td>\n",
              "      <td>RATIO2-001</td>\n",
              "      <td>1</td>\n",
              "      <td>SimplifiedNumeratorQuantity1</td>\n",
              "      <td>2006-11-14 10:18:00.0</td>\n",
              "      <td>2006-11-14 10:18:05.0</td>\n",
              "      <td>2006-11-14 10:18:05.0</td>\n",
              "      <td>2006-11-14 10:18:05.0</td>\n",
              "      <td>5.00000</td>\n",
              "      <td>5.00000</td>\n",
              "      <td>NaN</td>\n",
              "      <td>1</td>\n",
              "      <td>0</td>\n",
              "      <td>0</td>\n",
              "      <td>1</td>\n",
              "      <td>Calculate unit rate</td>\n",
              "      <td>1</td>\n",
              "    </tr>\n",
              "    <tr>\n",
              "      <th>1</th>\n",
              "      <td>1580</td>\n",
              "      <td>1931</td>\n",
              "      <td>745Yh</td>\n",
              "      <td>Unit RATIO-PROPORTION, Section RATIO-PROPORTION-2</td>\n",
              "      <td>RATIO2-001</td>\n",
              "      <td>1</td>\n",
              "      <td>SimplifiedNumeratorQuantity2</td>\n",
              "      <td>2006-11-14 10:18:11.0</td>\n",
              "      <td>2006-11-14 10:18:17.0</td>\n",
              "      <td>2006-11-14 10:18:34.0</td>\n",
              "      <td>2006-11-14 10:18:34.0</td>\n",
              "      <td>23.00000</td>\n",
              "      <td>NaN</td>\n",
              "      <td>23.00000</td>\n",
              "      <td>0</td>\n",
              "      <td>1</td>\n",
              "      <td>0</td>\n",
              "      <td>1</td>\n",
              "      <td>Calculate unit rate</td>\n",
              "      <td>2</td>\n",
              "    </tr>\n",
              "    <tr>\n",
              "      <th>2</th>\n",
              "      <td>1596</td>\n",
              "      <td>1947</td>\n",
              "      <td>745Yh</td>\n",
              "      <td>Unit RATIO-PROPORTION, Section RATIO-PROPORTION-2</td>\n",
              "      <td>RATIO2-012</td>\n",
              "      <td>1</td>\n",
              "      <td>SimplifiedNumeratorQuantity1</td>\n",
              "      <td>2006-11-14 10:50:52.0</td>\n",
              "      <td>2006-11-14 10:50:57.0</td>\n",
              "      <td>2006-11-14 10:51:11.0</td>\n",
              "      <td>2006-11-14 10:51:11.0</td>\n",
              "      <td>18.00000</td>\n",
              "      <td>NaN</td>\n",
              "      <td>18.00000</td>\n",
              "      <td>0</td>\n",
              "      <td>1</td>\n",
              "      <td>0</td>\n",
              "      <td>1</td>\n",
              "      <td>Calculate unit rate</td>\n",
              "      <td>3</td>\n",
              "    </tr>\n",
              "    <tr>\n",
              "      <th>3</th>\n",
              "      <td>1597</td>\n",
              "      <td>1948</td>\n",
              "      <td>745Yh</td>\n",
              "      <td>Unit RATIO-PROPORTION, Section RATIO-PROPORTION-2</td>\n",
              "      <td>RATIO2-012</td>\n",
              "      <td>1</td>\n",
              "      <td>SimplifiedNumeratorQuantity2</td>\n",
              "      <td>2006-11-14 10:51:11.0</td>\n",
              "      <td>2006-11-14 10:51:14.0</td>\n",
              "      <td>2006-11-14 10:51:14.0</td>\n",
              "      <td>2006-11-14 10:51:14.0</td>\n",
              "      <td>3.00000</td>\n",
              "      <td>3.00000</td>\n",
              "      <td>NaN</td>\n",
              "      <td>1</td>\n",
              "      <td>0</td>\n",
              "      <td>0</td>\n",
              "      <td>1</td>\n",
              "      <td>Calculate unit rate</td>\n",
              "      <td>4</td>\n",
              "    </tr>\n",
              "    <tr>\n",
              "      <th>4</th>\n",
              "      <td>1612</td>\n",
              "      <td>1963</td>\n",
              "      <td>745Yh</td>\n",
              "      <td>Unit RATIO-PROPORTION, Section RATIO-PROPORTION-2</td>\n",
              "      <td>RATIO2-054</td>\n",
              "      <td>1</td>\n",
              "      <td>SimplifiedNumeratorQuantity2</td>\n",
              "      <td>2006-11-28 09:53:43.0</td>\n",
              "      <td>2006-11-28 09:53:47.0</td>\n",
              "      <td>2006-11-28 09:53:56.0</td>\n",
              "      <td>2006-11-28 09:53:56.0</td>\n",
              "      <td>13.00000</td>\n",
              "      <td>NaN</td>\n",
              "      <td>13.00000</td>\n",
              "      <td>0</td>\n",
              "      <td>1</td>\n",
              "      <td>0</td>\n",
              "      <td>1</td>\n",
              "      <td>Calculate unit rate</td>\n",
              "      <td>5</td>\n",
              "    </tr>\n",
              "  </tbody>\n",
              "</table>\n",
              "</div>"
            ],
            "text/plain": [
              "   Unnamed: 0   Row Anon Student Id  \\\n",
              "0        1576  1927           745Yh   \n",
              "1        1580  1931           745Yh   \n",
              "2        1596  1947           745Yh   \n",
              "3        1597  1948           745Yh   \n",
              "4        1612  1963           745Yh   \n",
              "\n",
              "                                   Problem Hierarchy Problem Name  \\\n",
              "0  Unit RATIO-PROPORTION, Section RATIO-PROPORTION-2   RATIO2-001   \n",
              "1  Unit RATIO-PROPORTION, Section RATIO-PROPORTION-2   RATIO2-001   \n",
              "2  Unit RATIO-PROPORTION, Section RATIO-PROPORTION-2   RATIO2-012   \n",
              "3  Unit RATIO-PROPORTION, Section RATIO-PROPORTION-2   RATIO2-012   \n",
              "4  Unit RATIO-PROPORTION, Section RATIO-PROPORTION-2   RATIO2-054   \n",
              "\n",
              "   Problem View                     Step Name        Step Start Time  \\\n",
              "0             1  SimplifiedNumeratorQuantity1  2006-11-14 10:18:00.0   \n",
              "1             1  SimplifiedNumeratorQuantity2  2006-11-14 10:18:11.0   \n",
              "2             1  SimplifiedNumeratorQuantity1  2006-11-14 10:50:52.0   \n",
              "3             1  SimplifiedNumeratorQuantity2  2006-11-14 10:51:11.0   \n",
              "4             1  SimplifiedNumeratorQuantity2  2006-11-28 09:53:43.0   \n",
              "\n",
              "  First Transaction Time Correct Transaction Time          Step End Time  \\\n",
              "0  2006-11-14 10:18:05.0    2006-11-14 10:18:05.0  2006-11-14 10:18:05.0   \n",
              "1  2006-11-14 10:18:17.0    2006-11-14 10:18:34.0  2006-11-14 10:18:34.0   \n",
              "2  2006-11-14 10:50:57.0    2006-11-14 10:51:11.0  2006-11-14 10:51:11.0   \n",
              "3  2006-11-14 10:51:14.0    2006-11-14 10:51:14.0  2006-11-14 10:51:14.0   \n",
              "4  2006-11-28 09:53:47.0    2006-11-28 09:53:56.0  2006-11-28 09:53:56.0   \n",
              "\n",
              "   Step Duration (sec)  Correct Step Duration (sec)  \\\n",
              "0              5.00000                      5.00000   \n",
              "1             23.00000                          NaN   \n",
              "2             18.00000                          NaN   \n",
              "3              3.00000                      3.00000   \n",
              "4             13.00000                          NaN   \n",
              "\n",
              "   Error Step Duration (sec)  Correct First Attempt  Incorrects  Hints  \\\n",
              "0                        NaN                      1           0      0   \n",
              "1                   23.00000                      0           1      0   \n",
              "2                   18.00000                      0           1      0   \n",
              "3                        NaN                      1           0      0   \n",
              "4                   13.00000                      0           1      0   \n",
              "\n",
              "   Corrects          KC(Default)  Opportunity(Default)  \n",
              "0         1  Calculate unit rate                     1  \n",
              "1         1  Calculate unit rate                     2  \n",
              "2         1  Calculate unit rate                     3  \n",
              "3         1  Calculate unit rate                     4  \n",
              "4         1  Calculate unit rate                     5  "
            ]
          },
          "execution_count": 2,
          "metadata": {},
          "output_type": "execute_result"
        }
      ],
      "source": [
        "ct_df = pd.read_csv('ct.csv', encoding = 'latin')\n",
        "print(ct_df.columns)\n",
        "ct_df.head(5)"
      ]
    },
    {
      "cell_type": "code",
      "execution_count": 4,
      "metadata": {
        "colab": {
          "base_uri": "https://localhost:8080/",
          "height": 467
        },
        "id": "fMElhjrNNtI4",
        "outputId": "1c31bfa2-aded-4433-af07-40fb5bae9af2"
      },
      "outputs": [
        {
          "name": "stdout",
          "output_type": "stream",
          "text": [
            "Index(['order_id', 'assignment_id', 'user_id', 'assistment_id', 'problem_id',\n",
            "       'original', 'correct', 'attempt_count', 'ms_first_response',\n",
            "       'tutor_mode', 'answer_type', 'sequence_id', 'student_class_id',\n",
            "       'position', 'type', 'base_sequence_id', 'skill_id', 'skill_name',\n",
            "       'teacher_id', 'school_id', 'hint_count', 'hint_total', 'overlap_time',\n",
            "       'template_id', 'answer_id', 'answer_text', 'first_action',\n",
            "       'bottom_hint', 'opportunity', 'opportunity_original'],\n",
            "      dtype='object')\n"
          ]
        },
        {
          "data": {
            "text/html": [
              "<div>\n",
              "<style scoped>\n",
              "    .dataframe tbody tr th:only-of-type {\n",
              "        vertical-align: middle;\n",
              "    }\n",
              "\n",
              "    .dataframe tbody tr th {\n",
              "        vertical-align: top;\n",
              "    }\n",
              "\n",
              "    .dataframe thead th {\n",
              "        text-align: right;\n",
              "    }\n",
              "</style>\n",
              "<table border=\"1\" class=\"dataframe\">\n",
              "  <thead>\n",
              "    <tr style=\"text-align: right;\">\n",
              "      <th></th>\n",
              "      <th>order_id</th>\n",
              "      <th>assignment_id</th>\n",
              "      <th>user_id</th>\n",
              "      <th>assistment_id</th>\n",
              "      <th>problem_id</th>\n",
              "      <th>original</th>\n",
              "      <th>correct</th>\n",
              "      <th>attempt_count</th>\n",
              "      <th>ms_first_response</th>\n",
              "      <th>tutor_mode</th>\n",
              "      <th>...</th>\n",
              "      <th>hint_count</th>\n",
              "      <th>hint_total</th>\n",
              "      <th>overlap_time</th>\n",
              "      <th>template_id</th>\n",
              "      <th>answer_id</th>\n",
              "      <th>answer_text</th>\n",
              "      <th>first_action</th>\n",
              "      <th>bottom_hint</th>\n",
              "      <th>opportunity</th>\n",
              "      <th>opportunity_original</th>\n",
              "    </tr>\n",
              "  </thead>\n",
              "  <tbody>\n",
              "    <tr>\n",
              "      <th>0</th>\n",
              "      <td>33022537</td>\n",
              "      <td>277618</td>\n",
              "      <td>64525</td>\n",
              "      <td>33139</td>\n",
              "      <td>51424</td>\n",
              "      <td>1</td>\n",
              "      <td>1</td>\n",
              "      <td>1</td>\n",
              "      <td>32454</td>\n",
              "      <td>tutor</td>\n",
              "      <td>...</td>\n",
              "      <td>0</td>\n",
              "      <td>3</td>\n",
              "      <td>32454</td>\n",
              "      <td>30799</td>\n",
              "      <td>NaN</td>\n",
              "      <td>26</td>\n",
              "      <td>0</td>\n",
              "      <td>NaN</td>\n",
              "      <td>1</td>\n",
              "      <td>1.00000</td>\n",
              "    </tr>\n",
              "    <tr>\n",
              "      <th>1</th>\n",
              "      <td>33022709</td>\n",
              "      <td>277618</td>\n",
              "      <td>64525</td>\n",
              "      <td>33150</td>\n",
              "      <td>51435</td>\n",
              "      <td>1</td>\n",
              "      <td>1</td>\n",
              "      <td>1</td>\n",
              "      <td>4922</td>\n",
              "      <td>tutor</td>\n",
              "      <td>...</td>\n",
              "      <td>0</td>\n",
              "      <td>3</td>\n",
              "      <td>4922</td>\n",
              "      <td>30799</td>\n",
              "      <td>NaN</td>\n",
              "      <td>55</td>\n",
              "      <td>0</td>\n",
              "      <td>NaN</td>\n",
              "      <td>2</td>\n",
              "      <td>2.00000</td>\n",
              "    </tr>\n",
              "    <tr>\n",
              "      <th>2</th>\n",
              "      <td>35450204</td>\n",
              "      <td>220674</td>\n",
              "      <td>70363</td>\n",
              "      <td>33159</td>\n",
              "      <td>51444</td>\n",
              "      <td>1</td>\n",
              "      <td>0</td>\n",
              "      <td>2</td>\n",
              "      <td>25390</td>\n",
              "      <td>tutor</td>\n",
              "      <td>...</td>\n",
              "      <td>0</td>\n",
              "      <td>3</td>\n",
              "      <td>42000</td>\n",
              "      <td>30799</td>\n",
              "      <td>NaN</td>\n",
              "      <td>88</td>\n",
              "      <td>0</td>\n",
              "      <td>NaN</td>\n",
              "      <td>1</td>\n",
              "      <td>1.00000</td>\n",
              "    </tr>\n",
              "    <tr>\n",
              "      <th>3</th>\n",
              "      <td>35450295</td>\n",
              "      <td>220674</td>\n",
              "      <td>70363</td>\n",
              "      <td>33110</td>\n",
              "      <td>51395</td>\n",
              "      <td>1</td>\n",
              "      <td>1</td>\n",
              "      <td>1</td>\n",
              "      <td>4859</td>\n",
              "      <td>tutor</td>\n",
              "      <td>...</td>\n",
              "      <td>0</td>\n",
              "      <td>3</td>\n",
              "      <td>4859</td>\n",
              "      <td>30059</td>\n",
              "      <td>NaN</td>\n",
              "      <td>41</td>\n",
              "      <td>0</td>\n",
              "      <td>NaN</td>\n",
              "      <td>2</td>\n",
              "      <td>2.00000</td>\n",
              "    </tr>\n",
              "    <tr>\n",
              "      <th>4</th>\n",
              "      <td>35450311</td>\n",
              "      <td>220674</td>\n",
              "      <td>70363</td>\n",
              "      <td>33196</td>\n",
              "      <td>51481</td>\n",
              "      <td>1</td>\n",
              "      <td>0</td>\n",
              "      <td>14</td>\n",
              "      <td>19813</td>\n",
              "      <td>tutor</td>\n",
              "      <td>...</td>\n",
              "      <td>3</td>\n",
              "      <td>4</td>\n",
              "      <td>124564</td>\n",
              "      <td>30060</td>\n",
              "      <td>NaN</td>\n",
              "      <td>65</td>\n",
              "      <td>0</td>\n",
              "      <td>0.00000</td>\n",
              "      <td>3</td>\n",
              "      <td>3.00000</td>\n",
              "    </tr>\n",
              "  </tbody>\n",
              "</table>\n",
              "<p>5 rows × 30 columns</p>\n",
              "</div>"
            ],
            "text/plain": [
              "   order_id  assignment_id  user_id  assistment_id  problem_id  original  \\\n",
              "0  33022537         277618    64525          33139       51424         1   \n",
              "1  33022709         277618    64525          33150       51435         1   \n",
              "2  35450204         220674    70363          33159       51444         1   \n",
              "3  35450295         220674    70363          33110       51395         1   \n",
              "4  35450311         220674    70363          33196       51481         1   \n",
              "\n",
              "   correct  attempt_count  ms_first_response tutor_mode  ... hint_count  \\\n",
              "0        1              1              32454      tutor  ...          0   \n",
              "1        1              1               4922      tutor  ...          0   \n",
              "2        0              2              25390      tutor  ...          0   \n",
              "3        1              1               4859      tutor  ...          0   \n",
              "4        0             14              19813      tutor  ...          3   \n",
              "\n",
              "   hint_total  overlap_time  template_id answer_id  answer_text  first_action  \\\n",
              "0           3         32454        30799       NaN           26             0   \n",
              "1           3          4922        30799       NaN           55             0   \n",
              "2           3         42000        30799       NaN           88             0   \n",
              "3           3          4859        30059       NaN           41             0   \n",
              "4           4        124564        30060       NaN           65             0   \n",
              "\n",
              "  bottom_hint  opportunity  opportunity_original  \n",
              "0         NaN            1               1.00000  \n",
              "1         NaN            2               2.00000  \n",
              "2         NaN            1               1.00000  \n",
              "3         NaN            2               2.00000  \n",
              "4     0.00000            3               3.00000  \n",
              "\n",
              "[5 rows x 30 columns]"
            ]
          },
          "execution_count": 4,
          "metadata": {},
          "output_type": "execute_result"
        }
      ],
      "source": [
        "as_df = pd.read_csv('as.csv', encoding = 'latin', low_memory = False)\n",
        "print(as_df.columns)\n",
        "as_df.head(5)"
      ]
    },
    {
      "cell_type": "markdown",
      "metadata": {
        "id": "yK9SpoSTOCQ6"
      },
      "source": [
        "We can fit a simple BKT model with the `fit` method for the Model class. In this case, we will fit a BKT model to every skill in the Cognitive Tutor dataset separately. Note that when skill(s) are not specified, it trains a separate model on all skills by default.\n",
        "\n",
        "We can either specify a data path (location of a file) or the Pandas DataFrame containing the data."
      ]
    },
    {
      "cell_type": "code",
      "execution_count": 5,
      "metadata": {
        "id": "wGs-WUcXqgJ4"
      },
      "outputs": [],
      "source": [
        "model.fit(data_path = 'ct.csv')"
      ]
    },
    {
      "cell_type": "markdown",
      "metadata": {
        "id": "t5UGv-MIQbxi"
      },
      "source": [
        "We can train on multiple skills specified by a list of skill names or a \n",
        "REGEX match for each skill using the `skills` parameter. We demonstrate the usage of that below. In this case, we fit on all strings containing fraction."
      ]
    },
    {
      "cell_type": "code",
      "execution_count": 6,
      "metadata": {
        "colab": {
          "base_uri": "https://localhost:8080/"
        },
        "id": "WMv6ShtOQqu7",
        "outputId": "45385a8d-18ac-44bd-c80e-faf0253515c4"
      },
      "outputs": [
        {
          "name": "stdout",
          "output_type": "stream",
          "text": [
            "Fitted Skills:\n",
            "Plot non-terminating improper fraction\n",
            "Plot terminating proper fraction\n",
            "Calculate part in proportion with fractions\n",
            "Calculate total in proportion with fractions\n"
          ]
        }
      ],
      "source": [
        "model.fit(data_path = 'ct.csv', skills = \".*fraction.*\")\n",
        "print(\"Fitted Skills:\\n%s\" % '\\n'.join(model.coef_.keys()))"
      ]
    },
    {
      "cell_type": "markdown",
      "metadata": {
        "id": "03quuYvxOg_m"
      },
      "source": [
        "Evaluate on the trained skills for any test data located in a Pandas DataFrame or in a file. In this case, we will just use training data, so this will display the training error. Note that the default metric displayed is RMSE. pyBKT supports AUC, RMSE, and accuracy\n",
        "as metrics by default.\n",
        "\n",
        "However, you can define your own custom metric as well!"
      ]
    },
    {
      "cell_type": "code",
      "execution_count": 7,
      "metadata": {
        "colab": {
          "base_uri": "https://localhost:8080/"
        },
        "id": "oWRr6FxErB6G",
        "outputId": "680205b8-fb6a-4206-b23a-32cf27fd51d0"
      },
      "outputs": [
        {
          "name": "stdout",
          "output_type": "stream",
          "text": [
            "Training RMSE: 0.454048\n",
            "Training AUC: 0.705809\n"
          ]
        }
      ],
      "source": [
        "# Evaluate with the default RMSE then specify AUC.\n",
        "model.fit(data_path = 'ct.csv')\n",
        "training_rmse = model.evaluate(data = ct_df)\n",
        "training_auc = model.evaluate(data_path = \"ct.csv\", metric = 'auc')\n",
        "print(\"Training RMSE: %f\" % training_rmse)\n",
        "print(\"Training AUC: %f\" % training_auc)"
      ]
    },
    {
      "cell_type": "code",
      "execution_count": 8,
      "metadata": {
        "colab": {
          "base_uri": "https://localhost:8080/"
        },
        "id": "A2K6avPwrMZ0",
        "outputId": "54dca10e-8315-4f64-9e18-ce15c1e9f3c7"
      },
      "outputs": [
        {
          "name": "stdout",
          "output_type": "stream",
          "text": [
            "Training MAE: 0.412945\n"
          ]
        }
      ],
      "source": [
        "# We can even define our own metric!\n",
        "def mae(true_vals, pred_vals):\n",
        "    \"\"\" Calculates the mean absolute error. \"\"\"\n",
        "    return np.mean(np.abs(true_vals - pred_vals))\n",
        "\n",
        "training_mae = model.evaluate(data_path = 'ct.csv', metric = mae)\n",
        "print(\"Training MAE: %f\" % training_mae)"
      ]
    },
    {
      "cell_type": "markdown",
      "metadata": {
        "id": "h6q--qwhPtWW"
      },
      "source": [
        "### Model Prediction\n",
        "\n",
        "pyBKT can return predictions on a test set given a Pandas DataFrame or a file conaining test data. If pyBKT is asked for predictions on skills for which it has not trained a model, it will output a best effort guess of 0.5 for both the correct and state predictions.\n",
        "\n",
        "We will be using the training dataset again for testing purposes."
      ]
    },
    {
      "cell_type": "code",
      "execution_count": 9,
      "metadata": {
        "colab": {
          "base_uri": "https://localhost:8080/",
          "height": 206
        },
        "id": "cEMt5Cmlrzmd",
        "outputId": "de054e21-c9a3-4851-b4c3-eddaf3c45e16"
      },
      "outputs": [
        {
          "data": {
            "text/html": [
              "<div>\n",
              "<style scoped>\n",
              "    .dataframe tbody tr th:only-of-type {\n",
              "        vertical-align: middle;\n",
              "    }\n",
              "\n",
              "    .dataframe tbody tr th {\n",
              "        vertical-align: top;\n",
              "    }\n",
              "\n",
              "    .dataframe thead th {\n",
              "        text-align: right;\n",
              "    }\n",
              "</style>\n",
              "<table border=\"1\" class=\"dataframe\">\n",
              "  <thead>\n",
              "    <tr style=\"text-align: right;\">\n",
              "      <th></th>\n",
              "      <th>Anon Student Id</th>\n",
              "      <th>KC(Default)</th>\n",
              "      <th>Correct First Attempt</th>\n",
              "      <th>correct_predictions</th>\n",
              "      <th>state_predictions</th>\n",
              "    </tr>\n",
              "  </thead>\n",
              "  <tbody>\n",
              "    <tr>\n",
              "      <th>773</th>\n",
              "      <td>0I891Gg</td>\n",
              "      <td>Plot non-terminating improper fraction</td>\n",
              "      <td>0</td>\n",
              "      <td>0.49577</td>\n",
              "      <td>0.64162</td>\n",
              "    </tr>\n",
              "    <tr>\n",
              "      <th>774</th>\n",
              "      <td>0I891Gg</td>\n",
              "      <td>Plot imperfect radical</td>\n",
              "      <td>0</td>\n",
              "      <td>0.50000</td>\n",
              "      <td>0.50000</td>\n",
              "    </tr>\n",
              "    <tr>\n",
              "      <th>775</th>\n",
              "      <td>0I891Gg</td>\n",
              "      <td>Plot terminating proper fraction</td>\n",
              "      <td>0</td>\n",
              "      <td>0.51712</td>\n",
              "      <td>0.73496</td>\n",
              "    </tr>\n",
              "    <tr>\n",
              "      <th>776</th>\n",
              "      <td>0I891Gg</td>\n",
              "      <td>Plot pi</td>\n",
              "      <td>1</td>\n",
              "      <td>0.50000</td>\n",
              "      <td>0.50000</td>\n",
              "    </tr>\n",
              "    <tr>\n",
              "      <th>777</th>\n",
              "      <td>0I891Gg</td>\n",
              "      <td>Plot terminating proper fraction</td>\n",
              "      <td>1</td>\n",
              "      <td>0.46534</td>\n",
              "      <td>0.59943</td>\n",
              "    </tr>\n",
              "  </tbody>\n",
              "</table>\n",
              "</div>"
            ],
            "text/plain": [
              "    Anon Student Id                             KC(Default)  \\\n",
              "773         0I891Gg  Plot non-terminating improper fraction   \n",
              "774         0I891Gg                  Plot imperfect radical   \n",
              "775         0I891Gg        Plot terminating proper fraction   \n",
              "776         0I891Gg                                 Plot pi   \n",
              "777         0I891Gg        Plot terminating proper fraction   \n",
              "\n",
              "     Correct First Attempt  correct_predictions  state_predictions  \n",
              "773                      0              0.49577            0.64162  \n",
              "774                      0              0.50000            0.50000  \n",
              "775                      0              0.51712            0.73496  \n",
              "776                      1              0.50000            0.50000  \n",
              "777                      1              0.46534            0.59943  "
            ]
          },
          "execution_count": 9,
          "metadata": {},
          "output_type": "execute_result"
        }
      ],
      "source": [
        "# Note again that the REGEX expression below trains BKT models on all\n",
        "# skills containing the word fraction!\n",
        "model.fit(data_path = 'ct.csv', skills = \".*fraction.*\")\n",
        "preds = model.predict(data_path = 'ct.csv')\n",
        "preds[['Anon Student Id', 'KC(Default)', 'Correct First Attempt', \n",
        "       'correct_predictions', 'state_predictions']].head(5)"
      ]
    },
    {
      "cell_type": "code",
      "execution_count": 10,
      "metadata": {
        "colab": {
          "base_uri": "https://localhost:8080/"
        },
        "id": "UNINLedmRty2",
        "outputId": "d108177f-3dc8-4aa4-d67c-1572c78e61dd"
      },
      "outputs": [
        {
          "data": {
            "text/plain": [
              "array(['Plot non-terminating improper fraction',\n",
              "       'Plot terminating proper fraction',\n",
              "       'Calculate part in proportion with fractions',\n",
              "       'Calculate total in proportion with fractions'], dtype=object)"
            ]
          },
          "execution_count": 10,
          "metadata": {},
          "output_type": "execute_result"
        }
      ],
      "source": [
        "# Let's sanity check that we have only trained on the skills that we \n",
        "# specified in the call to fit! Note that while it is possible for a \n",
        "# BKT prediction to be 0.5 exactly, it is unlikely.\n",
        "preds[preds['correct_predictions'] != 0.5]['KC(Default)'].unique()"
      ]
    },
    {
      "cell_type": "code",
      "execution_count": 11,
      "metadata": {
        "colab": {
          "base_uri": "https://localhost:8080/"
        },
        "id": "HMYfbZIOSHmw",
        "outputId": "90c63bd4-d5e4-4995-a669-9690db0ab840"
      },
      "outputs": [
        {
          "data": {
            "text/plain": [
              "0.4405999318808203"
            ]
          },
          "execution_count": 11,
          "metadata": {},
          "output_type": "execute_result"
        }
      ],
      "source": [
        "# Let's manually calculate the RMSE of the correct predictions \n",
        "# and ensure that it is the same as a call to the evaluate function.\n",
        "def rmse(y_true, y_pred):\n",
        "    \"\"\" Returns the root-mean squared error. \"\"\"\n",
        "    return np.sqrt(np.mean((y_true - y_pred) ** 2))\n",
        "\n",
        "# Filter out the data for which we did not train!\n",
        "preds_filtered = preds[preds['KC(Default)'].str.contains('fraction')]\n",
        "manual_training_rmse = rmse(preds_filtered['Correct First Attempt'],\n",
        "                            preds_filtered['correct_predictions'])\n",
        "manual_training_rmse"
      ]
    },
    {
      "cell_type": "code",
      "execution_count": 12,
      "metadata": {
        "colab": {
          "base_uri": "https://localhost:8080/"
        },
        "id": "QQuyQWH0SmBu",
        "outputId": "268cc560-8ec5-434e-8b45-ef487a17d7aa"
      },
      "outputs": [
        {
          "data": {
            "text/plain": [
              "0.44059993188082097"
            ]
          },
          "execution_count": 12,
          "metadata": {},
          "output_type": "execute_result"
        }
      ],
      "source": [
        "# We use model.evaluate to accomplish the same thing!\n",
        "# You should receive an RMSE that is identical to the above\n",
        "# manually calculated RMSE.\n",
        "model.evaluate(data = ct_df)"
      ]
    },
    {
      "cell_type": "markdown",
      "metadata": {
        "id": "2RTLXJzSTdmq"
      },
      "source": [
        "### Model Cross-Validation and Variants\n",
        "\n",
        "Crossvalidation is offered as a blackbox function similar to a combination of fit and evaluate that accepts a particular number of folds, a seed, and a metric (either one of the 3 provided that are 'rmse', 'auc' or 'accuracy' or a custom Python function taking 2 arguments). Similar arguments for the model types, data path/data, and skill names are accepted as with the fit function."
      ]
    },
    {
      "cell_type": "code",
      "execution_count": 13,
      "metadata": {
        "colab": {
          "base_uri": "https://localhost:8080/",
          "height": 457
        },
        "id": "fLbg2OSsrdu8",
        "outputId": "e46ee757-879c-4fb0-af6f-e1ca6ad3f2af"
      },
      "outputs": [
        {
          "data": {
            "text/html": [
              "<div>\n",
              "<style scoped>\n",
              "    .dataframe tbody tr th:only-of-type {\n",
              "        vertical-align: middle;\n",
              "    }\n",
              "\n",
              "    .dataframe tbody tr th {\n",
              "        vertical-align: top;\n",
              "    }\n",
              "\n",
              "    .dataframe thead th {\n",
              "        text-align: right;\n",
              "    }\n",
              "</style>\n",
              "<table border=\"1\" class=\"dataframe\">\n",
              "  <thead>\n",
              "    <tr style=\"text-align: right;\">\n",
              "      <th></th>\n",
              "      <th>rmse</th>\n",
              "    </tr>\n",
              "    <tr>\n",
              "      <th>skill</th>\n",
              "      <th></th>\n",
              "    </tr>\n",
              "  </thead>\n",
              "  <tbody>\n",
              "    <tr>\n",
              "      <th>Plot non-terminating improper fraction</th>\n",
              "      <td>0.48498</td>\n",
              "    </tr>\n",
              "    <tr>\n",
              "      <th>Plot imperfect radical</th>\n",
              "      <td>0.43571</td>\n",
              "    </tr>\n",
              "    <tr>\n",
              "      <th>Plot terminating proper fraction</th>\n",
              "      <td>0.49804</td>\n",
              "    </tr>\n",
              "    <tr>\n",
              "      <th>Plot pi</th>\n",
              "      <td>0.46075</td>\n",
              "    </tr>\n",
              "    <tr>\n",
              "      <th>Plot whole number</th>\n",
              "      <td>0.29058</td>\n",
              "    </tr>\n",
              "    <tr>\n",
              "      <th>Plot decimal - thousandths</th>\n",
              "      <td>0.47254</td>\n",
              "    </tr>\n",
              "    <tr>\n",
              "      <th>Calculate unit rate</th>\n",
              "      <td>0.48287</td>\n",
              "    </tr>\n",
              "    <tr>\n",
              "      <th>Calculate part in proportion with fractions</th>\n",
              "      <td>0.42721</td>\n",
              "    </tr>\n",
              "    <tr>\n",
              "      <th>Calculate total in proportion with fractions</th>\n",
              "      <td>0.42430</td>\n",
              "    </tr>\n",
              "    <tr>\n",
              "      <th>Finding the intersection, Mixed</th>\n",
              "      <td>0.50214</td>\n",
              "    </tr>\n",
              "    <tr>\n",
              "      <th>Finding the intersection, GLF</th>\n",
              "      <td>0.48991</td>\n",
              "    </tr>\n",
              "    <tr>\n",
              "      <th>Finding the intersection, SIF</th>\n",
              "      <td>0.49984</td>\n",
              "    </tr>\n",
              "  </tbody>\n",
              "</table>\n",
              "</div>"
            ],
            "text/plain": [
              "                                                rmse\n",
              "skill                                               \n",
              "Plot non-terminating improper fraction       0.48498\n",
              "Plot imperfect radical                       0.43571\n",
              "Plot terminating proper fraction             0.49804\n",
              "Plot pi                                      0.46075\n",
              "Plot whole number                            0.29058\n",
              "Plot decimal - thousandths                   0.47254\n",
              "Calculate unit rate                          0.48287\n",
              "Calculate part in proportion with fractions  0.42721\n",
              "Calculate total in proportion with fractions 0.42430\n",
              "Finding the intersection, Mixed              0.50214\n",
              "Finding the intersection, GLF                0.48991\n",
              "Finding the intersection, SIF                0.49984"
            ]
          },
          "execution_count": 13,
          "metadata": {},
          "output_type": "execute_result"
        }
      ],
      "source": [
        "# Note that folds is an optional parameter as well as the model \n",
        "# variant, seed, and crossvalidated metric.\n",
        "# By default, we crossvalidate on all skills separately.\n",
        "model.crossvalidate(data_path = 'ct.csv', folds = 5)"
      ]
    },
    {
      "cell_type": "markdown",
      "metadata": {
        "id": "quergqYRUWCn"
      },
      "source": [
        "We explore all the model variants offered within pyBKT for one particular skill (Calculations with Similar Figures) using cross-validation since it provides a much better evaluation of true model performance during test time than the training loss!"
      ]
    },
    {
      "cell_type": "code",
      "execution_count": 14,
      "metadata": {
        "colab": {
          "base_uri": "https://localhost:8080/",
          "height": 112
        },
        "id": "J74W6yFqsmk1",
        "outputId": "a12566cc-9ae3-4abb-91d2-a1e4c5a60313"
      },
      "outputs": [
        {
          "data": {
            "text/html": [
              "<div>\n",
              "<style scoped>\n",
              "    .dataframe tbody tr th:only-of-type {\n",
              "        vertical-align: middle;\n",
              "    }\n",
              "\n",
              "    .dataframe tbody tr th {\n",
              "        vertical-align: top;\n",
              "    }\n",
              "\n",
              "    .dataframe thead th {\n",
              "        text-align: right;\n",
              "    }\n",
              "</style>\n",
              "<table border=\"1\" class=\"dataframe\">\n",
              "  <thead>\n",
              "    <tr style=\"text-align: right;\">\n",
              "      <th></th>\n",
              "      <th>auc</th>\n",
              "    </tr>\n",
              "    <tr>\n",
              "      <th>skill</th>\n",
              "      <th></th>\n",
              "    </tr>\n",
              "  </thead>\n",
              "  <tbody>\n",
              "    <tr>\n",
              "      <th>Calculations with Similar Figures</th>\n",
              "      <td>0.59662</td>\n",
              "    </tr>\n",
              "  </tbody>\n",
              "</table>\n",
              "</div>"
            ],
            "text/plain": [
              "                                      auc\n",
              "skill                                    \n",
              "Calculations with Similar Figures 0.59662"
            ]
          },
          "execution_count": 14,
          "metadata": {},
          "output_type": "execute_result"
        }
      ],
      "source": [
        "# Try this with a different skill or metric by replacing the lines below.\n",
        "skill = 'Calculations with Similar Figures'\n",
        "metric = 'auc'\n",
        "\n",
        "simple_cv = model.crossvalidate(data = as_df, skills = skill, \n",
        "                                metric = metric)\n",
        "simple_cv"
      ]
    },
    {
      "cell_type": "markdown",
      "metadata": {
        "id": "Or07tJTHUyws"
      },
      "source": [
        "The multigs model fits a different guess/slip rate for each class. Note that by default, for the CognitiveTutor data, the guess and slip classes will be specified by the template_id. pyBKT will be able to infer the column names for AS/CT type datasets, but you can specify a custom column mapping (discussed in later cells)."
      ]
    },
    {
      "cell_type": "code",
      "execution_count": 15,
      "metadata": {
        "colab": {
          "base_uri": "https://localhost:8080/",
          "height": 112
        },
        "id": "6Kl-ylC5VhqR",
        "outputId": "80c270ff-77e6-4b12-9939-8083b192776f"
      },
      "outputs": [
        {
          "data": {
            "text/html": [
              "<div>\n",
              "<style scoped>\n",
              "    .dataframe tbody tr th:only-of-type {\n",
              "        vertical-align: middle;\n",
              "    }\n",
              "\n",
              "    .dataframe tbody tr th {\n",
              "        vertical-align: top;\n",
              "    }\n",
              "\n",
              "    .dataframe thead th {\n",
              "        text-align: right;\n",
              "    }\n",
              "</style>\n",
              "<table border=\"1\" class=\"dataframe\">\n",
              "  <thead>\n",
              "    <tr style=\"text-align: right;\">\n",
              "      <th></th>\n",
              "      <th>auc</th>\n",
              "    </tr>\n",
              "    <tr>\n",
              "      <th>skill</th>\n",
              "      <th></th>\n",
              "    </tr>\n",
              "  </thead>\n",
              "  <tbody>\n",
              "    <tr>\n",
              "      <th>Calculations with Similar Figures</th>\n",
              "      <td>0.63834</td>\n",
              "    </tr>\n",
              "  </tbody>\n",
              "</table>\n",
              "</div>"
            ],
            "text/plain": [
              "                                      auc\n",
              "skill                                    \n",
              "Calculations with Similar Figures 0.63834"
            ]
          },
          "execution_count": 15,
          "metadata": {},
          "output_type": "execute_result"
        }
      ],
      "source": [
        "multigs_cv = model.crossvalidate(data_path = 'as.csv', skills = skill,\n",
        "                                 multigs = True, metric = metric)\n",
        "multigs_cv"
      ]
    },
    {
      "cell_type": "markdown",
      "metadata": {
        "id": "OJpjUlpdVHXc"
      },
      "source": [
        "The multilearn model fits a different learn rate (and forget rate if enabled) rate for each class specified. Note that the learn classes are specified by the template_id column by default for the Assistments dataset."
      ]
    },
    {
      "cell_type": "code",
      "execution_count": 16,
      "metadata": {
        "colab": {
          "base_uri": "https://localhost:8080/",
          "height": 112
        },
        "id": "4VvZiCmLVliZ",
        "outputId": "6f8b943a-ed4f-4f6d-da16-89001c21fcd0"
      },
      "outputs": [
        {
          "data": {
            "text/html": [
              "<div>\n",
              "<style scoped>\n",
              "    .dataframe tbody tr th:only-of-type {\n",
              "        vertical-align: middle;\n",
              "    }\n",
              "\n",
              "    .dataframe tbody tr th {\n",
              "        vertical-align: top;\n",
              "    }\n",
              "\n",
              "    .dataframe thead th {\n",
              "        text-align: right;\n",
              "    }\n",
              "</style>\n",
              "<table border=\"1\" class=\"dataframe\">\n",
              "  <thead>\n",
              "    <tr style=\"text-align: right;\">\n",
              "      <th></th>\n",
              "      <th>auc</th>\n",
              "    </tr>\n",
              "    <tr>\n",
              "      <th>skill</th>\n",
              "      <th></th>\n",
              "    </tr>\n",
              "  </thead>\n",
              "  <tbody>\n",
              "    <tr>\n",
              "      <th>Calculations with Similar Figures</th>\n",
              "      <td>0.62712</td>\n",
              "    </tr>\n",
              "  </tbody>\n",
              "</table>\n",
              "</div>"
            ],
            "text/plain": [
              "                                      auc\n",
              "skill                                    \n",
              "Calculations with Similar Figures 0.62712"
            ]
          },
          "execution_count": 16,
          "metadata": {},
          "output_type": "execute_result"
        }
      ],
      "source": [
        "multilearn_cv = model.crossvalidate(data_path = 'as.csv', skills = skill,\n",
        "                                    multilearn = True, forgets = True, \n",
        "                                    metric = metric)\n",
        "multilearn_cv"
      ]
    },
    {
      "cell_type": "markdown",
      "metadata": {
        "id": "M3KtHwOgVj3Y"
      },
      "source": [
        "The multilearn model fits a different learn (and forget if enabled) rate for each class, and the multipair model generates a different learn rate based on each consecutive pair of classes. "
      ]
    },
    {
      "cell_type": "code",
      "execution_count": 17,
      "metadata": {
        "colab": {
          "base_uri": "https://localhost:8080/",
          "height": 143
        },
        "id": "bhyg7-ZfVohB",
        "outputId": "fdf3efb6-0c59-47f5-c0e4-61fa8a5295e9"
      },
      "outputs": [
        {
          "data": {
            "text/html": [
              "<div>\n",
              "<style scoped>\n",
              "    .dataframe tbody tr th:only-of-type {\n",
              "        vertical-align: middle;\n",
              "    }\n",
              "\n",
              "    .dataframe tbody tr th {\n",
              "        vertical-align: top;\n",
              "    }\n",
              "\n",
              "    .dataframe thead th {\n",
              "        text-align: right;\n",
              "    }\n",
              "</style>\n",
              "<table border=\"1\" class=\"dataframe\">\n",
              "  <thead>\n",
              "    <tr style=\"text-align: right;\">\n",
              "      <th></th>\n",
              "      <th>auc</th>\n",
              "    </tr>\n",
              "    <tr>\n",
              "      <th>skill</th>\n",
              "      <th></th>\n",
              "    </tr>\n",
              "  </thead>\n",
              "  <tbody>\n",
              "    <tr>\n",
              "      <th>Calculations with Similar Figures</th>\n",
              "      <td>0.60332</td>\n",
              "    </tr>\n",
              "    <tr>\n",
              "      <th>Calculations with Similar Figures</th>\n",
              "      <td>0.59662</td>\n",
              "    </tr>\n",
              "  </tbody>\n",
              "</table>\n",
              "</div>"
            ],
            "text/plain": [
              "                                      auc\n",
              "skill                                    \n",
              "Calculations with Similar Figures 0.60332\n",
              "Calculations with Similar Figures 0.59662"
            ]
          },
          "execution_count": 17,
          "metadata": {},
          "output_type": "execute_result"
        }
      ],
      "source": [
        "# The multiprior model generates different priors based on the first \n",
        "# response of each student.\n",
        "multiprior_cv = model.crossvalidate(data_path = 'as.csv', skills = skill,\n",
        "                                    multiprior = True, metric = metric,\n",
        "                                    folds = 3)\n",
        "multipair_cv = model.crossvalidate(data_path = 'as.csv', skills = skill,\n",
        "                                   multipair = True, metric = metric,\n",
        "                                   folds = 3)\n",
        "pd.concat([multiprior_cv, multipair_cv], axis = 0)"
      ]
    },
    {
      "cell_type": "markdown",
      "metadata": {
        "id": "J8afYPYSWAZy"
      },
      "source": [
        "The best performing models are typically those that combine several useful variants such as the multilearn and multiguess/slip class variants. We will enable the forgets parameter as well. Try testing with other skills and see whether this holds true for the general case."
      ]
    },
    {
      "cell_type": "code",
      "execution_count": 18,
      "metadata": {
        "colab": {
          "base_uri": "https://localhost:8080/",
          "height": 112
        },
        "id": "4ivl4apsVtB3",
        "outputId": "0b89d7e8-5f70-45a8-86b5-6f76ef3fc538"
      },
      "outputs": [
        {
          "data": {
            "text/html": [
              "<div>\n",
              "<style scoped>\n",
              "    .dataframe tbody tr th:only-of-type {\n",
              "        vertical-align: middle;\n",
              "    }\n",
              "\n",
              "    .dataframe tbody tr th {\n",
              "        vertical-align: top;\n",
              "    }\n",
              "\n",
              "    .dataframe thead th {\n",
              "        text-align: right;\n",
              "    }\n",
              "</style>\n",
              "<table border=\"1\" class=\"dataframe\">\n",
              "  <thead>\n",
              "    <tr style=\"text-align: right;\">\n",
              "      <th></th>\n",
              "      <th>auc</th>\n",
              "    </tr>\n",
              "    <tr>\n",
              "      <th>skill</th>\n",
              "      <th></th>\n",
              "    </tr>\n",
              "  </thead>\n",
              "  <tbody>\n",
              "    <tr>\n",
              "      <th>Calculations with Similar Figures</th>\n",
              "      <td>0.61708</td>\n",
              "    </tr>\n",
              "  </tbody>\n",
              "</table>\n",
              "</div>"
            ],
            "text/plain": [
              "                                      auc\n",
              "skill                                    \n",
              "Calculations with Similar Figures 0.61708"
            ]
          },
          "execution_count": 18,
          "metadata": {},
          "output_type": "execute_result"
        }
      ],
      "source": [
        "# We combine the fifth parameter, forgets, with the previous multilearn\n",
        "# and multiguess/slip models for a combo model.\n",
        "combo_cv = model.crossvalidate(data_path = 'as.csv', skills = skill,\n",
        "                               forgets = True, multilearn = True, \n",
        "                               multigs = True, metric = metric)\n",
        "combo_cv"
      ]
    },
    {
      "cell_type": "markdown",
      "metadata": {},
      "source": [
        "### Save Combination Model to `pickle` File"
      ]
    },
    {
      "cell_type": "code",
      "execution_count": 176,
      "metadata": {},
      "outputs": [
        {
          "data": {
            "text/html": [
              "<div>\n",
              "<style scoped>\n",
              "    .dataframe tbody tr th:only-of-type {\n",
              "        vertical-align: middle;\n",
              "    }\n",
              "\n",
              "    .dataframe tbody tr th {\n",
              "        vertical-align: top;\n",
              "    }\n",
              "\n",
              "    .dataframe thead th {\n",
              "        text-align: right;\n",
              "    }\n",
              "</style>\n",
              "<table border=\"1\" class=\"dataframe\">\n",
              "  <thead>\n",
              "    <tr style=\"text-align: right;\">\n",
              "      <th></th>\n",
              "      <th>user_id</th>\n",
              "      <th>skill_name</th>\n",
              "      <th>correct</th>\n",
              "    </tr>\n",
              "  </thead>\n",
              "  <tbody>\n",
              "    <tr>\n",
              "      <th>773</th>\n",
              "      <td>0I891Gg</td>\n",
              "      <td>Plot non-terminating improper fraction (Custom)</td>\n",
              "      <td>0</td>\n",
              "    </tr>\n",
              "    <tr>\n",
              "      <th>774</th>\n",
              "      <td>0I891Gg</td>\n",
              "      <td>Plot imperfect radical (Custom)</td>\n",
              "      <td>0</td>\n",
              "    </tr>\n",
              "    <tr>\n",
              "      <th>775</th>\n",
              "      <td>0I891Gg</td>\n",
              "      <td>Plot terminating proper fraction (Custom)</td>\n",
              "      <td>0</td>\n",
              "    </tr>\n",
              "    <tr>\n",
              "      <th>776</th>\n",
              "      <td>0I891Gg</td>\n",
              "      <td>Plot pi (Custom)</td>\n",
              "      <td>1</td>\n",
              "    </tr>\n",
              "    <tr>\n",
              "      <th>777</th>\n",
              "      <td>0I891Gg</td>\n",
              "      <td>Plot terminating proper fraction (Custom)</td>\n",
              "      <td>1</td>\n",
              "    </tr>\n",
              "  </tbody>\n",
              "</table>\n",
              "</div>"
            ],
            "text/plain": [
              "     user_id                                       skill_name  correct\n",
              "773  0I891Gg  Plot non-terminating improper fraction (Custom)        0\n",
              "774  0I891Gg                  Plot imperfect radical (Custom)        0\n",
              "775  0I891Gg        Plot terminating proper fraction (Custom)        0\n",
              "776  0I891Gg                                 Plot pi (Custom)        1\n",
              "777  0I891Gg        Plot terminating proper fraction (Custom)        1"
            ]
          },
          "execution_count": 176,
          "metadata": {},
          "output_type": "execute_result"
        }
      ],
      "source": [
        "defaults = {\n",
        "    'order_id': 'custom_order', \n",
        "    'skill_name': 'custom_skill', \n",
        "    'correct': 'custom_answer',\n",
        "    'user_id': 'custom_student_id',\n",
        "    # 'multigs': 'custom_gs_classes',\n",
        "}\n",
        "\n",
        "columns = [\n",
        "    # 'Row',\n",
        "    'Anon Student Id',\n",
        "    'KC(Default)',\n",
        "    'Correct First Attempt',\n",
        "    # 'Problem Name'\n",
        "]\n",
        "my_df = ct_df[columns]\n",
        "my_df.columns = [\n",
        "    # 'order_id',\n",
        "    'user_id',\n",
        "    'skill_name',\n",
        "    'correct',\n",
        "    # 'custom_gs_classes'\n",
        "]\n",
        "# my_df.columns = [\n",
        "#     'custom_order',\n",
        "#     'custom_student_id',\n",
        "#     'custom_skill',\n",
        "#     'custom_answer',\n",
        "#     # 'custom_gs_classes'\n",
        "# ]\n",
        "my_df['skill_name'] += ' (Custom)'\n",
        "my_df.head(5)"
      ]
    },
    {
      "cell_type": "code",
      "execution_count": 149,
      "metadata": {},
      "outputs": [
        {
          "data": {
            "text/html": [
              "<div>\n",
              "<style scoped>\n",
              "    .dataframe tbody tr th:only-of-type {\n",
              "        vertical-align: middle;\n",
              "    }\n",
              "\n",
              "    .dataframe tbody tr th {\n",
              "        vertical-align: top;\n",
              "    }\n",
              "\n",
              "    .dataframe thead th {\n",
              "        text-align: right;\n",
              "    }\n",
              "</style>\n",
              "<table border=\"1\" class=\"dataframe\">\n",
              "  <thead>\n",
              "    <tr style=\"text-align: right;\">\n",
              "      <th></th>\n",
              "      <th>Row</th>\n",
              "      <th>Anon Student Id</th>\n",
              "      <th>KC(Default)</th>\n",
              "      <th>Correct First Attempt</th>\n",
              "      <th>Problem Name</th>\n",
              "    </tr>\n",
              "  </thead>\n",
              "  <tbody>\n",
              "    <tr>\n",
              "      <th>773</th>\n",
              "      <td>112149</td>\n",
              "      <td>0I891Gg</td>\n",
              "      <td>Plot non-terminating improper fraction (Custom)</td>\n",
              "      <td>0</td>\n",
              "      <td>RATIONAL1-014</td>\n",
              "    </tr>\n",
              "    <tr>\n",
              "      <th>774</th>\n",
              "      <td>112151</td>\n",
              "      <td>0I891Gg</td>\n",
              "      <td>Plot imperfect radical (Custom)</td>\n",
              "      <td>0</td>\n",
              "      <td>RATIONAL1-041</td>\n",
              "    </tr>\n",
              "    <tr>\n",
              "      <th>775</th>\n",
              "      <td>112156</td>\n",
              "      <td>0I891Gg</td>\n",
              "      <td>Plot terminating proper fraction (Custom)</td>\n",
              "      <td>0</td>\n",
              "      <td>RATIONAL1-104</td>\n",
              "    </tr>\n",
              "    <tr>\n",
              "      <th>776</th>\n",
              "      <td>112157</td>\n",
              "      <td>0I891Gg</td>\n",
              "      <td>Plot pi (Custom)</td>\n",
              "      <td>1</td>\n",
              "      <td>RATIONAL1-122</td>\n",
              "    </tr>\n",
              "    <tr>\n",
              "      <th>777</th>\n",
              "      <td>112159</td>\n",
              "      <td>0I891Gg</td>\n",
              "      <td>Plot terminating proper fraction (Custom)</td>\n",
              "      <td>1</td>\n",
              "      <td>RATIONAL1-180</td>\n",
              "    </tr>\n",
              "  </tbody>\n",
              "</table>\n",
              "</div>"
            ],
            "text/plain": [
              "        Row Anon Student Id                                      KC(Default)  \\\n",
              "773  112149         0I891Gg  Plot non-terminating improper fraction (Custom)   \n",
              "774  112151         0I891Gg                  Plot imperfect radical (Custom)   \n",
              "775  112156         0I891Gg        Plot terminating proper fraction (Custom)   \n",
              "776  112157         0I891Gg                                 Plot pi (Custom)   \n",
              "777  112159         0I891Gg        Plot terminating proper fraction (Custom)   \n",
              "\n",
              "     Correct First Attempt   Problem Name  \n",
              "773                      0  RATIONAL1-014  \n",
              "774                      0  RATIONAL1-041  \n",
              "775                      0  RATIONAL1-104  \n",
              "776                      1  RATIONAL1-122  \n",
              "777                      1  RATIONAL1-180  "
            ]
          },
          "execution_count": 149,
          "metadata": {},
          "output_type": "execute_result"
        }
      ],
      "source": [
        "columns = ['Row', 'Anon Student Id', 'KC(Default)', 'Correct First Attempt', 'Problem Name']\n",
        "my_df2 = ct_df[columns]\n",
        "my_df2['KC(Default)'] += ' (Custom)'\n",
        "my_df2.head(5)"
      ]
    },
    {
      "cell_type": "code",
      "execution_count": 177,
      "metadata": {},
      "outputs": [],
      "source": [
        "model = Model(seed=42, num_fits=1)\n",
        "\n",
        "model.fit(\n",
        "    data=my_df,\n",
        "    # defaults=defaults,\n",
        "    # skills=my_df[\"custom_skill\"].unique().tolist(),\n",
        ")"
      ]
    },
    {
      "cell_type": "code",
      "execution_count": null,
      "metadata": {},
      "outputs": [],
      "source": [
        "model.evaluate(\n",
        "    data=my_df,\n",
        "    # defaults=defaults,\n",
        ")"
      ]
    },
    {
      "cell_type": "code",
      "execution_count": 28,
      "metadata": {},
      "outputs": [
        {
          "data": {
            "text/html": [
              "<div>\n",
              "<style scoped>\n",
              "    .dataframe tbody tr th:only-of-type {\n",
              "        vertical-align: middle;\n",
              "    }\n",
              "\n",
              "    .dataframe tbody tr th {\n",
              "        vertical-align: top;\n",
              "    }\n",
              "\n",
              "    .dataframe thead th {\n",
              "        text-align: right;\n",
              "    }\n",
              "</style>\n",
              "<table border=\"1\" class=\"dataframe\">\n",
              "  <thead>\n",
              "    <tr style=\"text-align: right;\">\n",
              "      <th></th>\n",
              "      <th>auc</th>\n",
              "    </tr>\n",
              "    <tr>\n",
              "      <th>skill</th>\n",
              "      <th></th>\n",
              "    </tr>\n",
              "  </thead>\n",
              "  <tbody>\n",
              "    <tr>\n",
              "      <th>Plot non-terminating improper fraction</th>\n",
              "      <td>0.60222</td>\n",
              "    </tr>\n",
              "    <tr>\n",
              "      <th>Plot imperfect radical</th>\n",
              "      <td>0.62459</td>\n",
              "    </tr>\n",
              "    <tr>\n",
              "      <th>Plot terminating proper fraction</th>\n",
              "      <td>0.71187</td>\n",
              "    </tr>\n",
              "    <tr>\n",
              "      <th>Plot pi</th>\n",
              "      <td>0.63674</td>\n",
              "    </tr>\n",
              "    <tr>\n",
              "      <th>Plot whole number</th>\n",
              "      <td>0.69273</td>\n",
              "    </tr>\n",
              "    <tr>\n",
              "      <th>Plot decimal - thousandths</th>\n",
              "      <td>0.69422</td>\n",
              "    </tr>\n",
              "    <tr>\n",
              "      <th>Calculate unit rate</th>\n",
              "      <td>0.72158</td>\n",
              "    </tr>\n",
              "    <tr>\n",
              "      <th>Calculate part in proportion with fractions</th>\n",
              "      <td>0.62559</td>\n",
              "    </tr>\n",
              "    <tr>\n",
              "      <th>Calculate total in proportion with fractions</th>\n",
              "      <td>0.65920</td>\n",
              "    </tr>\n",
              "    <tr>\n",
              "      <th>Finding the intersection, Mixed</th>\n",
              "      <td>0.69320</td>\n",
              "    </tr>\n",
              "    <tr>\n",
              "      <th>Finding the intersection, GLF</th>\n",
              "      <td>0.74230</td>\n",
              "    </tr>\n",
              "    <tr>\n",
              "      <th>Finding the intersection, SIF</th>\n",
              "      <td>0.77367</td>\n",
              "    </tr>\n",
              "  </tbody>\n",
              "</table>\n",
              "</div>"
            ],
            "text/plain": [
              "                                                 auc\n",
              "skill                                               \n",
              "Plot non-terminating improper fraction       0.60222\n",
              "Plot imperfect radical                       0.62459\n",
              "Plot terminating proper fraction             0.71187\n",
              "Plot pi                                      0.63674\n",
              "Plot whole number                            0.69273\n",
              "Plot decimal - thousandths                   0.69422\n",
              "Calculate unit rate                          0.72158\n",
              "Calculate part in proportion with fractions  0.62559\n",
              "Calculate total in proportion with fractions 0.65920\n",
              "Finding the intersection, Mixed              0.69320\n",
              "Finding the intersection, GLF                0.74230\n",
              "Finding the intersection, SIF                0.77367"
            ]
          },
          "execution_count": 28,
          "metadata": {},
          "output_type": "execute_result"
        }
      ],
      "source": [
        "model.crossvalidate(\n",
        "    data = ct_df,\n",
        "    forgets = True,\n",
        "    multilearn = True,\n",
        "    multigs = True,\n",
        "    metric = \"auc\",\n",
        "    folds = 5,\n",
        ")"
      ]
    },
    {
      "cell_type": "code",
      "execution_count": 100,
      "metadata": {},
      "outputs": [
        {
          "data": {
            "text/html": [
              "<div>\n",
              "<style scoped>\n",
              "    .dataframe tbody tr th:only-of-type {\n",
              "        vertical-align: middle;\n",
              "    }\n",
              "\n",
              "    .dataframe tbody tr th {\n",
              "        vertical-align: top;\n",
              "    }\n",
              "\n",
              "    .dataframe thead th {\n",
              "        text-align: right;\n",
              "    }\n",
              "</style>\n",
              "<table border=\"1\" class=\"dataframe\">\n",
              "  <thead>\n",
              "    <tr style=\"text-align: right;\">\n",
              "      <th></th>\n",
              "      <th>Unnamed: 0</th>\n",
              "      <th>Row</th>\n",
              "      <th>Anon Student Id</th>\n",
              "      <th>Problem Hierarchy</th>\n",
              "      <th>Problem Name</th>\n",
              "      <th>Problem View</th>\n",
              "      <th>Step Name</th>\n",
              "      <th>Step Start Time</th>\n",
              "      <th>First Transaction Time</th>\n",
              "      <th>Correct Transaction Time</th>\n",
              "      <th>...</th>\n",
              "      <th>Correct Step Duration (sec)</th>\n",
              "      <th>Error Step Duration (sec)</th>\n",
              "      <th>Correct First Attempt</th>\n",
              "      <th>Incorrects</th>\n",
              "      <th>Hints</th>\n",
              "      <th>Corrects</th>\n",
              "      <th>KC(Default)</th>\n",
              "      <th>Opportunity(Default)</th>\n",
              "      <th>correct_predictions</th>\n",
              "      <th>state_predictions</th>\n",
              "    </tr>\n",
              "  </thead>\n",
              "  <tbody>\n",
              "    <tr>\n",
              "      <th>773</th>\n",
              "      <td>84051</td>\n",
              "      <td>112149</td>\n",
              "      <td>0I891Gg</td>\n",
              "      <td>Unit RATIONAL-IRRATIONAL-NUMBERS, Section RATI...</td>\n",
              "      <td>RATIONAL1-014</td>\n",
              "      <td>1</td>\n",
              "      <td>RationalNumberline1</td>\n",
              "      <td>2006-09-07 09:02:46.0</td>\n",
              "      <td>2006-09-07 09:03:11.0</td>\n",
              "      <td>2006-09-07 09:03:27.0</td>\n",
              "      <td>...</td>\n",
              "      <td>NaN</td>\n",
              "      <td>41.00000</td>\n",
              "      <td>0</td>\n",
              "      <td>1</td>\n",
              "      <td>0</td>\n",
              "      <td>1</td>\n",
              "      <td>Plot non-terminating improper fraction</td>\n",
              "      <td>1</td>\n",
              "      <td>0.47740</td>\n",
              "      <td>0.40882</td>\n",
              "    </tr>\n",
              "    <tr>\n",
              "      <th>774</th>\n",
              "      <td>84053</td>\n",
              "      <td>112151</td>\n",
              "      <td>0I891Gg</td>\n",
              "      <td>Unit RATIONAL-IRRATIONAL-NUMBERS, Section RATI...</td>\n",
              "      <td>RATIONAL1-041</td>\n",
              "      <td>1</td>\n",
              "      <td>RationalNumberline1</td>\n",
              "      <td>2006-09-07 09:03:59.0</td>\n",
              "      <td>2006-09-07 09:10:07.0</td>\n",
              "      <td>2006-09-07 09:13:55.0</td>\n",
              "      <td>...</td>\n",
              "      <td>NaN</td>\n",
              "      <td>596.00000</td>\n",
              "      <td>0</td>\n",
              "      <td>5</td>\n",
              "      <td>1</td>\n",
              "      <td>1</td>\n",
              "      <td>Plot imperfect radical</td>\n",
              "      <td>1</td>\n",
              "      <td>0.46024</td>\n",
              "      <td>0.06773</td>\n",
              "    </tr>\n",
              "    <tr>\n",
              "      <th>775</th>\n",
              "      <td>84058</td>\n",
              "      <td>112156</td>\n",
              "      <td>0I891Gg</td>\n",
              "      <td>Unit RATIONAL-IRRATIONAL-NUMBERS, Section RATI...</td>\n",
              "      <td>RATIONAL1-104</td>\n",
              "      <td>1</td>\n",
              "      <td>RationalNumberline1</td>\n",
              "      <td>2006-09-07 09:16:53.0</td>\n",
              "      <td>2006-09-07 09:17:33.0</td>\n",
              "      <td>2006-09-07 09:17:35.0</td>\n",
              "      <td>...</td>\n",
              "      <td>NaN</td>\n",
              "      <td>42.00000</td>\n",
              "      <td>0</td>\n",
              "      <td>1</td>\n",
              "      <td>0</td>\n",
              "      <td>1</td>\n",
              "      <td>Plot terminating proper fraction</td>\n",
              "      <td>1</td>\n",
              "      <td>0.11793</td>\n",
              "      <td>0.00340</td>\n",
              "    </tr>\n",
              "    <tr>\n",
              "      <th>776</th>\n",
              "      <td>84059</td>\n",
              "      <td>112157</td>\n",
              "      <td>0I891Gg</td>\n",
              "      <td>Unit RATIONAL-IRRATIONAL-NUMBERS, Section RATI...</td>\n",
              "      <td>RATIONAL1-122</td>\n",
              "      <td>1</td>\n",
              "      <td>RationalNumberline1</td>\n",
              "      <td>2006-09-07 09:17:41.0</td>\n",
              "      <td>2006-09-07 09:18:11.0</td>\n",
              "      <td>2006-09-07 09:18:11.0</td>\n",
              "      <td>...</td>\n",
              "      <td>30.00000</td>\n",
              "      <td>NaN</td>\n",
              "      <td>1</td>\n",
              "      <td>0</td>\n",
              "      <td>0</td>\n",
              "      <td>1</td>\n",
              "      <td>Plot pi</td>\n",
              "      <td>1</td>\n",
              "      <td>0.75629</td>\n",
              "      <td>0.71195</td>\n",
              "    </tr>\n",
              "    <tr>\n",
              "      <th>777</th>\n",
              "      <td>84061</td>\n",
              "      <td>112159</td>\n",
              "      <td>0I891Gg</td>\n",
              "      <td>Unit RATIONAL-IRRATIONAL-NUMBERS, Section RATI...</td>\n",
              "      <td>RATIONAL1-180</td>\n",
              "      <td>1</td>\n",
              "      <td>RationalNumberline1</td>\n",
              "      <td>2006-09-07 09:18:29.0</td>\n",
              "      <td>2006-09-07 09:18:44.0</td>\n",
              "      <td>2006-09-07 09:18:44.0</td>\n",
              "      <td>...</td>\n",
              "      <td>15.00000</td>\n",
              "      <td>NaN</td>\n",
              "      <td>1</td>\n",
              "      <td>0</td>\n",
              "      <td>0</td>\n",
              "      <td>1</td>\n",
              "      <td>Plot terminating proper fraction</td>\n",
              "      <td>2</td>\n",
              "      <td>0.45643</td>\n",
              "      <td>0.00163</td>\n",
              "    </tr>\n",
              "  </tbody>\n",
              "</table>\n",
              "<p>5 rows × 22 columns</p>\n",
              "</div>"
            ],
            "text/plain": [
              "     Unnamed: 0     Row Anon Student Id  \\\n",
              "773       84051  112149         0I891Gg   \n",
              "774       84053  112151         0I891Gg   \n",
              "775       84058  112156         0I891Gg   \n",
              "776       84059  112157         0I891Gg   \n",
              "777       84061  112159         0I891Gg   \n",
              "\n",
              "                                     Problem Hierarchy   Problem Name  \\\n",
              "773  Unit RATIONAL-IRRATIONAL-NUMBERS, Section RATI...  RATIONAL1-014   \n",
              "774  Unit RATIONAL-IRRATIONAL-NUMBERS, Section RATI...  RATIONAL1-041   \n",
              "775  Unit RATIONAL-IRRATIONAL-NUMBERS, Section RATI...  RATIONAL1-104   \n",
              "776  Unit RATIONAL-IRRATIONAL-NUMBERS, Section RATI...  RATIONAL1-122   \n",
              "777  Unit RATIONAL-IRRATIONAL-NUMBERS, Section RATI...  RATIONAL1-180   \n",
              "\n",
              "     Problem View            Step Name        Step Start Time  \\\n",
              "773             1  RationalNumberline1  2006-09-07 09:02:46.0   \n",
              "774             1  RationalNumberline1  2006-09-07 09:03:59.0   \n",
              "775             1  RationalNumberline1  2006-09-07 09:16:53.0   \n",
              "776             1  RationalNumberline1  2006-09-07 09:17:41.0   \n",
              "777             1  RationalNumberline1  2006-09-07 09:18:29.0   \n",
              "\n",
              "    First Transaction Time Correct Transaction Time  ...  \\\n",
              "773  2006-09-07 09:03:11.0    2006-09-07 09:03:27.0  ...   \n",
              "774  2006-09-07 09:10:07.0    2006-09-07 09:13:55.0  ...   \n",
              "775  2006-09-07 09:17:33.0    2006-09-07 09:17:35.0  ...   \n",
              "776  2006-09-07 09:18:11.0    2006-09-07 09:18:11.0  ...   \n",
              "777  2006-09-07 09:18:44.0    2006-09-07 09:18:44.0  ...   \n",
              "\n",
              "    Correct Step Duration (sec)  Error Step Duration (sec)  \\\n",
              "773                         NaN                   41.00000   \n",
              "774                         NaN                  596.00000   \n",
              "775                         NaN                   42.00000   \n",
              "776                    30.00000                        NaN   \n",
              "777                    15.00000                        NaN   \n",
              "\n",
              "     Correct First Attempt  Incorrects  Hints  Corrects  \\\n",
              "773                      0           1      0         1   \n",
              "774                      0           5      1         1   \n",
              "775                      0           1      0         1   \n",
              "776                      1           0      0         1   \n",
              "777                      1           0      0         1   \n",
              "\n",
              "                                KC(Default)  Opportunity(Default)  \\\n",
              "773  Plot non-terminating improper fraction                     1   \n",
              "774                  Plot imperfect radical                     1   \n",
              "775        Plot terminating proper fraction                     1   \n",
              "776                                 Plot pi                     1   \n",
              "777        Plot terminating proper fraction                     2   \n",
              "\n",
              "    correct_predictions  state_predictions  \n",
              "773             0.47740            0.40882  \n",
              "774             0.46024            0.06773  \n",
              "775             0.11793            0.00340  \n",
              "776             0.75629            0.71195  \n",
              "777             0.45643            0.00163  \n",
              "\n",
              "[5 rows x 22 columns]"
            ]
          },
          "execution_count": 100,
          "metadata": {},
          "output_type": "execute_result"
        }
      ],
      "source": [
        "ct_df.head(5)"
      ]
    },
    {
      "cell_type": "code",
      "execution_count": 129,
      "metadata": {},
      "outputs": [
        {
          "data": {
            "text/plain": [
              "Model(parallel=True, num_fits=5, seed=42, defaults={'order_id': 'custom_order', 'skill_name': 'custom_skill', 'correct': 'custom_answer', 'user_id': 'custom_student_id', 'multigs': 'custom_gs_classes'})"
            ]
          },
          "execution_count": 129,
          "metadata": {},
          "output_type": "execute_result"
        }
      ],
      "source": [
        "model"
      ]
    },
    {
      "cell_type": "code",
      "execution_count": 123,
      "metadata": {},
      "outputs": [
        {
          "data": {
            "text/plain": [
              "['Plot non-terminating improper fraction (Custom)',\n",
              " 'Plot imperfect radical (Custom)',\n",
              " 'Plot terminating proper fraction (Custom)',\n",
              " 'Plot pi (Custom)',\n",
              " 'Plot whole number (Custom)',\n",
              " 'Plot decimal - thousandths (Custom)',\n",
              " 'Calculate unit rate (Custom)',\n",
              " 'Calculate part in proportion with fractions (Custom)',\n",
              " 'Calculate total in proportion with fractions (Custom)',\n",
              " 'Finding the intersection, Mixed (Custom)',\n",
              " 'Finding the intersection, GLF (Custom)',\n",
              " 'Finding the intersection, SIF (Custom)']"
            ]
          },
          "execution_count": 123,
          "metadata": {},
          "output_type": "execute_result"
        }
      ],
      "source": [
        "my_df[\"custom_skill\"].unique().tolist()"
      ]
    },
    {
      "cell_type": "code",
      "execution_count": 140,
      "metadata": {},
      "outputs": [
        {
          "data": {
            "text/html": [
              "<div>\n",
              "<style scoped>\n",
              "    .dataframe tbody tr th:only-of-type {\n",
              "        vertical-align: middle;\n",
              "    }\n",
              "\n",
              "    .dataframe tbody tr th {\n",
              "        vertical-align: top;\n",
              "    }\n",
              "\n",
              "    .dataframe thead th {\n",
              "        text-align: right;\n",
              "    }\n",
              "</style>\n",
              "<table border=\"1\" class=\"dataframe\">\n",
              "  <thead>\n",
              "    <tr style=\"text-align: right;\">\n",
              "      <th></th>\n",
              "      <th>auc</th>\n",
              "    </tr>\n",
              "    <tr>\n",
              "      <th>skill</th>\n",
              "      <th></th>\n",
              "    </tr>\n",
              "  </thead>\n",
              "  <tbody>\n",
              "    <tr>\n",
              "      <th>Plot non-terminating improper fraction (Custom)</th>\n",
              "      <td>0.64076</td>\n",
              "    </tr>\n",
              "    <tr>\n",
              "      <th>Plot imperfect radical (Custom)</th>\n",
              "      <td>0.63413</td>\n",
              "    </tr>\n",
              "    <tr>\n",
              "      <th>Plot terminating proper fraction (Custom)</th>\n",
              "      <td>0.55914</td>\n",
              "    </tr>\n",
              "    <tr>\n",
              "      <th>Plot pi (Custom)</th>\n",
              "      <td>0.58068</td>\n",
              "    </tr>\n",
              "    <tr>\n",
              "      <th>Plot whole number (Custom)</th>\n",
              "      <td>0.53734</td>\n",
              "    </tr>\n",
              "    <tr>\n",
              "      <th>Plot decimal - thousandths (Custom)</th>\n",
              "      <td>0.62505</td>\n",
              "    </tr>\n",
              "    <tr>\n",
              "      <th>Calculate unit rate (Custom)</th>\n",
              "      <td>0.59534</td>\n",
              "    </tr>\n",
              "    <tr>\n",
              "      <th>Calculate part in proportion with fractions (Custom)</th>\n",
              "      <td>0.67032</td>\n",
              "    </tr>\n",
              "    <tr>\n",
              "      <th>Calculate total in proportion with fractions (Custom)</th>\n",
              "      <td>0.70914</td>\n",
              "    </tr>\n",
              "    <tr>\n",
              "      <th>Finding the intersection, Mixed (Custom)</th>\n",
              "      <td>0.52407</td>\n",
              "    </tr>\n",
              "    <tr>\n",
              "      <th>Finding the intersection, GLF (Custom)</th>\n",
              "      <td>0.60968</td>\n",
              "    </tr>\n",
              "    <tr>\n",
              "      <th>Finding the intersection, SIF (Custom)</th>\n",
              "      <td>0.54851</td>\n",
              "    </tr>\n",
              "  </tbody>\n",
              "</table>\n",
              "</div>"
            ],
            "text/plain": [
              "                                                       auc\n",
              "skill                                                     \n",
              "Plot non-terminating improper fraction (Custom)    0.64076\n",
              "Plot imperfect radical (Custom)                    0.63413\n",
              "Plot terminating proper fraction (Custom)          0.55914\n",
              "Plot pi (Custom)                                   0.58068\n",
              "Plot whole number (Custom)                         0.53734\n",
              "Plot decimal - thousandths (Custom)                0.62505\n",
              "Calculate unit rate (Custom)                       0.59534\n",
              "Calculate part in proportion with fractions (Cu... 0.67032\n",
              "Calculate total in proportion with fractions (C... 0.70914\n",
              "Finding the intersection, Mixed (Custom)           0.52407\n",
              "Finding the intersection, GLF (Custom)             0.60968\n",
              "Finding the intersection, SIF (Custom)             0.54851"
            ]
          },
          "execution_count": 140,
          "metadata": {},
          "output_type": "execute_result"
        }
      ],
      "source": [
        "model.crossvalidate(\n",
        "    data=my_df,\n",
        "    metric=\"auc\",\n",
        "    defaults=defaults,\n",
        ")"
      ]
    },
    {
      "cell_type": "code",
      "execution_count": 19,
      "metadata": {},
      "outputs": [
        {
          "data": {
            "text/html": [
              "<div>\n",
              "<style scoped>\n",
              "    .dataframe tbody tr th:only-of-type {\n",
              "        vertical-align: middle;\n",
              "    }\n",
              "\n",
              "    .dataframe tbody tr th {\n",
              "        vertical-align: top;\n",
              "    }\n",
              "\n",
              "    .dataframe thead th {\n",
              "        text-align: right;\n",
              "    }\n",
              "</style>\n",
              "<table border=\"1\" class=\"dataframe\">\n",
              "  <thead>\n",
              "    <tr style=\"text-align: right;\">\n",
              "      <th></th>\n",
              "      <th>Anon Student Id</th>\n",
              "      <th>KC(Default)</th>\n",
              "      <th>Correct First Attempt</th>\n",
              "      <th>correct_predictions</th>\n",
              "      <th>state_predictions</th>\n",
              "    </tr>\n",
              "  </thead>\n",
              "  <tbody>\n",
              "    <tr>\n",
              "      <th>773</th>\n",
              "      <td>0I891Gg</td>\n",
              "      <td>Plot non-terminating improper fraction</td>\n",
              "      <td>0</td>\n",
              "      <td>0.49900</td>\n",
              "      <td>0.32692</td>\n",
              "    </tr>\n",
              "    <tr>\n",
              "      <th>774</th>\n",
              "      <td>0I891Gg</td>\n",
              "      <td>Plot imperfect radical</td>\n",
              "      <td>0</td>\n",
              "      <td>0.32865</td>\n",
              "      <td>0.25476</td>\n",
              "    </tr>\n",
              "    <tr>\n",
              "      <th>775</th>\n",
              "      <td>0I891Gg</td>\n",
              "      <td>Plot terminating proper fraction</td>\n",
              "      <td>0</td>\n",
              "      <td>0.12006</td>\n",
              "      <td>0.00579</td>\n",
              "    </tr>\n",
              "    <tr>\n",
              "      <th>776</th>\n",
              "      <td>0I891Gg</td>\n",
              "      <td>Plot pi</td>\n",
              "      <td>1</td>\n",
              "      <td>0.82969</td>\n",
              "      <td>0.74094</td>\n",
              "    </tr>\n",
              "    <tr>\n",
              "      <th>777</th>\n",
              "      <td>0I891Gg</td>\n",
              "      <td>Plot terminating proper fraction</td>\n",
              "      <td>1</td>\n",
              "      <td>0.45654</td>\n",
              "      <td>0.00067</td>\n",
              "    </tr>\n",
              "  </tbody>\n",
              "</table>\n",
              "</div>"
            ],
            "text/plain": [
              "    Anon Student Id                             KC(Default)  \\\n",
              "773         0I891Gg  Plot non-terminating improper fraction   \n",
              "774         0I891Gg                  Plot imperfect radical   \n",
              "775         0I891Gg        Plot terminating proper fraction   \n",
              "776         0I891Gg                                 Plot pi   \n",
              "777         0I891Gg        Plot terminating proper fraction   \n",
              "\n",
              "     Correct First Attempt  correct_predictions  state_predictions  \n",
              "773                      0              0.49900            0.32692  \n",
              "774                      0              0.32865            0.25476  \n",
              "775                      0              0.12006            0.00579  \n",
              "776                      1              0.82969            0.74094  \n",
              "777                      1              0.45654            0.00067  "
            ]
          },
          "execution_count": 19,
          "metadata": {},
          "output_type": "execute_result"
        }
      ],
      "source": [
        "preds = model.predict(data = ct_df)\n",
        "preds[['Anon Student Id', 'KC(Default)', 'Correct First Attempt', \n",
        "       'correct_predictions', 'state_predictions']].head(5)"
      ]
    },
    {
      "cell_type": "code",
      "execution_count": 96,
      "metadata": {},
      "outputs": [
        {
          "data": {
            "text/html": [
              "<div>\n",
              "<style scoped>\n",
              "    .dataframe tbody tr th:only-of-type {\n",
              "        vertical-align: middle;\n",
              "    }\n",
              "\n",
              "    .dataframe tbody tr th {\n",
              "        vertical-align: top;\n",
              "    }\n",
              "\n",
              "    .dataframe thead th {\n",
              "        text-align: right;\n",
              "    }\n",
              "</style>\n",
              "<table border=\"1\" class=\"dataframe\">\n",
              "  <thead>\n",
              "    <tr style=\"text-align: right;\">\n",
              "      <th></th>\n",
              "      <th>Anon Student Id</th>\n",
              "      <th>KC(Default)</th>\n",
              "      <th>Correct First Attempt</th>\n",
              "      <th>correct_predictions</th>\n",
              "      <th>state_predictions</th>\n",
              "    </tr>\n",
              "  </thead>\n",
              "  <tbody>\n",
              "    <tr>\n",
              "      <th>773</th>\n",
              "      <td>0I891Gg</td>\n",
              "      <td>Plot non-terminating improper fraction</td>\n",
              "      <td>0</td>\n",
              "      <td>0.47740</td>\n",
              "      <td>0.40882</td>\n",
              "    </tr>\n",
              "    <tr>\n",
              "      <th>774</th>\n",
              "      <td>0I891Gg</td>\n",
              "      <td>Plot imperfect radical</td>\n",
              "      <td>0</td>\n",
              "      <td>0.46024</td>\n",
              "      <td>0.06773</td>\n",
              "    </tr>\n",
              "    <tr>\n",
              "      <th>775</th>\n",
              "      <td>0I891Gg</td>\n",
              "      <td>Plot terminating proper fraction</td>\n",
              "      <td>0</td>\n",
              "      <td>0.11793</td>\n",
              "      <td>0.00340</td>\n",
              "    </tr>\n",
              "    <tr>\n",
              "      <th>776</th>\n",
              "      <td>0I891Gg</td>\n",
              "      <td>Plot pi</td>\n",
              "      <td>1</td>\n",
              "      <td>0.75629</td>\n",
              "      <td>0.71195</td>\n",
              "    </tr>\n",
              "    <tr>\n",
              "      <th>777</th>\n",
              "      <td>0I891Gg</td>\n",
              "      <td>Plot terminating proper fraction</td>\n",
              "      <td>1</td>\n",
              "      <td>0.45643</td>\n",
              "      <td>0.00163</td>\n",
              "    </tr>\n",
              "    <tr>\n",
              "      <th>...</th>\n",
              "      <td>...</td>\n",
              "      <td>...</td>\n",
              "      <td>...</td>\n",
              "      <td>...</td>\n",
              "      <td>...</td>\n",
              "    </tr>\n",
              "    <tr>\n",
              "      <th>2004</th>\n",
              "      <td>zt5vuLM</td>\n",
              "      <td>Calculate part in proportion with fractions</td>\n",
              "      <td>1</td>\n",
              "      <td>0.74707</td>\n",
              "      <td>0.73451</td>\n",
              "    </tr>\n",
              "    <tr>\n",
              "      <th>2005</th>\n",
              "      <td>zt5vuLM</td>\n",
              "      <td>Calculate total in proportion with fractions</td>\n",
              "      <td>1</td>\n",
              "      <td>0.68552</td>\n",
              "      <td>0.33393</td>\n",
              "    </tr>\n",
              "    <tr>\n",
              "      <th>2006</th>\n",
              "      <td>zt5vuLM</td>\n",
              "      <td>Calculate part in proportion with fractions</td>\n",
              "      <td>1</td>\n",
              "      <td>0.72118</td>\n",
              "      <td>0.73854</td>\n",
              "    </tr>\n",
              "    <tr>\n",
              "      <th>2007</th>\n",
              "      <td>zt5vuLM</td>\n",
              "      <td>Calculate total in proportion with fractions</td>\n",
              "      <td>1</td>\n",
              "      <td>0.70099</td>\n",
              "      <td>0.52609</td>\n",
              "    </tr>\n",
              "    <tr>\n",
              "      <th>2008</th>\n",
              "      <td>zt5vuLM</td>\n",
              "      <td>Calculate part in proportion with fractions</td>\n",
              "      <td>1</td>\n",
              "      <td>0.78765</td>\n",
              "      <td>0.74037</td>\n",
              "    </tr>\n",
              "  </tbody>\n",
              "</table>\n",
              "<p>16857 rows × 5 columns</p>\n",
              "</div>"
            ],
            "text/plain": [
              "     Anon Student Id                                   KC(Default)  \\\n",
              "773          0I891Gg        Plot non-terminating improper fraction   \n",
              "774          0I891Gg                        Plot imperfect radical   \n",
              "775          0I891Gg              Plot terminating proper fraction   \n",
              "776          0I891Gg                                       Plot pi   \n",
              "777          0I891Gg              Plot terminating proper fraction   \n",
              "...              ...                                           ...   \n",
              "2004         zt5vuLM   Calculate part in proportion with fractions   \n",
              "2005         zt5vuLM  Calculate total in proportion with fractions   \n",
              "2006         zt5vuLM   Calculate part in proportion with fractions   \n",
              "2007         zt5vuLM  Calculate total in proportion with fractions   \n",
              "2008         zt5vuLM   Calculate part in proportion with fractions   \n",
              "\n",
              "      Correct First Attempt  correct_predictions  state_predictions  \n",
              "773                       0              0.47740            0.40882  \n",
              "774                       0              0.46024            0.06773  \n",
              "775                       0              0.11793            0.00340  \n",
              "776                       1              0.75629            0.71195  \n",
              "777                       1              0.45643            0.00163  \n",
              "...                     ...                  ...                ...  \n",
              "2004                      1              0.74707            0.73451  \n",
              "2005                      1              0.68552            0.33393  \n",
              "2006                      1              0.72118            0.73854  \n",
              "2007                      1              0.70099            0.52609  \n",
              "2008                      1              0.78765            0.74037  \n",
              "\n",
              "[16857 rows x 5 columns]"
            ]
          },
          "execution_count": 96,
          "metadata": {},
          "output_type": "execute_result"
        }
      ],
      "source": [
        "preds = model.predict(data = ct_df)\n",
        "preds[['Anon Student Id', 'KC(Default)', 'Correct First Attempt', \n",
        "       'correct_predictions', 'state_predictions']]"
      ]
    },
    {
      "cell_type": "code",
      "execution_count": null,
      "metadata": {},
      "outputs": [],
      "source": [
        "# model = Model()\n",
        "# model.load(\"model.pkl\")\n",
        "\n",
        "pred = model.predict(\n",
        "    data=pd.DataFrame(\n",
        "        [\n",
        "            {\n",
        "                \"Anon Student Id\": \"A0206262N\",\n",
        "                \"KC(Default)\": \"Plot non-terminating improper fraction\",\n",
        "                \"Correct First Attempt\": 1,\n",
        "                \"Problem Name\": \"RATIONAL1-014\",\n",
        "            }\n",
        "        ]\n",
        "    )\n",
        ")\n",
        "\n",
        "pred.to_dict()[[\"correct_predictions\", \"state_predictions\"]]"
      ]
    },
    {
      "cell_type": "code",
      "execution_count": null,
      "metadata": {},
      "outputs": [],
      "source": [
        "pred = model.predict(\n",
        "    data=pd.DataFrame(\n",
        "        [\n",
        "            {\n",
        "                'custom_order': 1,\n",
        "                'custom_student_id': 'A0206262N',\n",
        "                'custom_skill': 'Plot non-terminating improper fraction (Custom)',\n",
        "                'custom_answer': 1,\n",
        "                'custom_gs_classes': 'RATIONAL1-014',\n",
        "            }\n",
        "        ]\n",
        "    )\n",
        ")\n",
        "\n",
        "pred.to_dict()[[\"correct_predictions\", \"state_predictions\"]]"
      ]
    },
    {
      "cell_type": "code",
      "execution_count": 161,
      "metadata": {},
      "outputs": [],
      "source": [
        "model.save(\"model-custom.pkl\")"
      ]
    },
    {
      "cell_type": "markdown",
      "metadata": {},
      "source": [
        "### pyBKT Examples"
      ]
    },
    {
      "cell_type": "code",
      "execution_count": 163,
      "metadata": {},
      "outputs": [
        {
          "data": {
            "text/html": [
              "<div>\n",
              "<style scoped>\n",
              "    .dataframe tbody tr th:only-of-type {\n",
              "        vertical-align: middle;\n",
              "    }\n",
              "\n",
              "    .dataframe tbody tr th {\n",
              "        vertical-align: top;\n",
              "    }\n",
              "\n",
              "    .dataframe thead th {\n",
              "        text-align: right;\n",
              "    }\n",
              "</style>\n",
              "<table border=\"1\" class=\"dataframe\">\n",
              "  <thead>\n",
              "    <tr style=\"text-align: right;\">\n",
              "      <th></th>\n",
              "      <th>user_id</th>\n",
              "      <th>skill_name</th>\n",
              "      <th>correct</th>\n",
              "    </tr>\n",
              "  </thead>\n",
              "  <tbody>\n",
              "    <tr>\n",
              "      <th>0</th>\n",
              "      <td>1</td>\n",
              "      <td>7</td>\n",
              "      <td>1</td>\n",
              "    </tr>\n",
              "    <tr>\n",
              "      <th>1</th>\n",
              "      <td>7</td>\n",
              "      <td>82</td>\n",
              "      <td>0</td>\n",
              "    </tr>\n",
              "    <tr>\n",
              "      <th>2</th>\n",
              "      <td>7</td>\n",
              "      <td>82</td>\n",
              "      <td>0</td>\n",
              "    </tr>\n",
              "    <tr>\n",
              "      <th>3</th>\n",
              "      <td>7</td>\n",
              "      <td>82</td>\n",
              "      <td>0</td>\n",
              "    </tr>\n",
              "    <tr>\n",
              "      <th>4</th>\n",
              "      <td>7</td>\n",
              "      <td>82</td>\n",
              "      <td>0</td>\n",
              "    </tr>\n",
              "    <tr>\n",
              "      <th>...</th>\n",
              "      <td>...</td>\n",
              "      <td>...</td>\n",
              "      <td>...</td>\n",
              "    </tr>\n",
              "    <tr>\n",
              "      <th>407962</th>\n",
              "      <td>145</td>\n",
              "      <td>123</td>\n",
              "      <td>0</td>\n",
              "    </tr>\n",
              "    <tr>\n",
              "      <th>407963</th>\n",
              "      <td>145</td>\n",
              "      <td>123</td>\n",
              "      <td>1</td>\n",
              "    </tr>\n",
              "    <tr>\n",
              "      <th>407964</th>\n",
              "      <td>145</td>\n",
              "      <td>123</td>\n",
              "      <td>1</td>\n",
              "    </tr>\n",
              "    <tr>\n",
              "      <th>407965</th>\n",
              "      <td>145</td>\n",
              "      <td>123</td>\n",
              "      <td>1</td>\n",
              "    </tr>\n",
              "    <tr>\n",
              "      <th>407966</th>\n",
              "      <td>145</td>\n",
              "      <td>123</td>\n",
              "      <td>0</td>\n",
              "    </tr>\n",
              "  </tbody>\n",
              "</table>\n",
              "<p>407967 rows × 3 columns</p>\n",
              "</div>"
            ],
            "text/plain": [
              "        user_id  skill_name  correct\n",
              "0             1           7        1\n",
              "1             7          82        0\n",
              "2             7          82        0\n",
              "3             7          82        0\n",
              "4             7          82        0\n",
              "...         ...         ...      ...\n",
              "407962      145         123        0\n",
              "407963      145         123        1\n",
              "407964      145         123        1\n",
              "407965      145         123        1\n",
              "407966      145         123        0\n",
              "\n",
              "[407967 rows x 3 columns]"
            ]
          },
          "execution_count": 163,
          "metadata": {},
          "output_type": "execute_result"
        }
      ],
      "source": [
        "builder_df = pd.read_csv(\"../pyBKT-examples/data/builder_train_preprocessed.csv\")\n",
        "builder_df"
      ]
    },
    {
      "cell_type": "code",
      "execution_count": 411,
      "metadata": {},
      "outputs": [
        {
          "data": {
            "text/html": [
              "<div>\n",
              "<style scoped>\n",
              "    .dataframe tbody tr th:only-of-type {\n",
              "        vertical-align: middle;\n",
              "    }\n",
              "\n",
              "    .dataframe tbody tr th {\n",
              "        vertical-align: top;\n",
              "    }\n",
              "\n",
              "    .dataframe thead th {\n",
              "        text-align: right;\n",
              "    }\n",
              "</style>\n",
              "<table border=\"1\" class=\"dataframe\">\n",
              "  <thead>\n",
              "    <tr style=\"text-align: right;\">\n",
              "      <th></th>\n",
              "      <th>#</th>\n",
              "      <th>Student ID</th>\n",
              "      <th>Topic</th>\n",
              "      <th>Correct</th>\n",
              "      <th>Problem Name</th>\n",
              "    </tr>\n",
              "  </thead>\n",
              "  <tbody>\n",
              "    <tr>\n",
              "      <th>773</th>\n",
              "      <td>112149</td>\n",
              "      <td>0I891Gg</td>\n",
              "      <td>plot non-terminating improper fraction (custom)</td>\n",
              "      <td>0</td>\n",
              "      <td>RATIONAL1-014</td>\n",
              "    </tr>\n",
              "    <tr>\n",
              "      <th>774</th>\n",
              "      <td>112151</td>\n",
              "      <td>0I891Gg</td>\n",
              "      <td>plot imperfect radical (custom)</td>\n",
              "      <td>0</td>\n",
              "      <td>RATIONAL1-041</td>\n",
              "    </tr>\n",
              "    <tr>\n",
              "      <th>775</th>\n",
              "      <td>112156</td>\n",
              "      <td>0I891Gg</td>\n",
              "      <td>plot terminating proper fraction (custom)</td>\n",
              "      <td>0</td>\n",
              "      <td>RATIONAL1-104</td>\n",
              "    </tr>\n",
              "    <tr>\n",
              "      <th>776</th>\n",
              "      <td>112157</td>\n",
              "      <td>0I891Gg</td>\n",
              "      <td>plot pi (custom)</td>\n",
              "      <td>1</td>\n",
              "      <td>RATIONAL1-122</td>\n",
              "    </tr>\n",
              "    <tr>\n",
              "      <th>777</th>\n",
              "      <td>112159</td>\n",
              "      <td>0I891Gg</td>\n",
              "      <td>plot terminating proper fraction (custom)</td>\n",
              "      <td>1</td>\n",
              "      <td>RATIONAL1-180</td>\n",
              "    </tr>\n",
              "  </tbody>\n",
              "</table>\n",
              "</div>"
            ],
            "text/plain": [
              "          # Student ID                                            Topic  \\\n",
              "773  112149    0I891Gg  plot non-terminating improper fraction (custom)   \n",
              "774  112151    0I891Gg                  plot imperfect radical (custom)   \n",
              "775  112156    0I891Gg        plot terminating proper fraction (custom)   \n",
              "776  112157    0I891Gg                                 plot pi (custom)   \n",
              "777  112159    0I891Gg        plot terminating proper fraction (custom)   \n",
              "\n",
              "     Correct   Problem Name  \n",
              "773        0  RATIONAL1-014  \n",
              "774        0  RATIONAL1-041  \n",
              "775        0  RATIONAL1-104  \n",
              "776        1  RATIONAL1-122  \n",
              "777        1  RATIONAL1-180  "
            ]
          },
          "execution_count": 411,
          "metadata": {},
          "output_type": "execute_result"
        }
      ],
      "source": [
        "defaults = {\n",
        "    'order_id': '#', \n",
        "    'user_id': 'Student ID',\n",
        "    'skill_name': 'Topic', \n",
        "    'correct': 'Correct',\n",
        "    'multigs': 'Problem Name',\n",
        "}\n",
        "\n",
        "columns = [\n",
        "    'Row',\n",
        "    'Anon Student Id',\n",
        "    'KC(Default)',\n",
        "    'Correct First Attempt',\n",
        "    'Problem Name'\n",
        "]\n",
        "my_df = ct_df[columns]\n",
        "my_df.columns = defaults.values()\n",
        "# topics = {skill: str(i) for i, skill in enumerate(my_df[\"Topic\"].unique())}\n",
        "# my_df[\"Topic\"] = my_df[\"Topic\"].replace(topics)\n",
        "my_df['Topic'] += ' (Custom)'\n",
        "my_df['Topic'] = my_df['Topic'].str.lower()\n",
        "# ^[]\\+$*()|? invalid characters\n",
        "# -,./:;'\"#{} valid characters\n",
        "my_df.head(5)"
      ]
    },
    {
      "cell_type": "code",
      "execution_count": 403,
      "metadata": {},
      "outputs": [
        {
          "data": {
            "text/plain": [
              "{'plot non-terminating improper fraction': 'a',\n",
              " 'plot imperfect radical': 'b',\n",
              " 'plot terminating proper fraction': 'c',\n",
              " 'plot pi': 'd',\n",
              " 'plot whole number': 'e',\n",
              " 'plot decimal - thousandths': 'f',\n",
              " 'calculate unit rate': 'g',\n",
              " 'calculate part in proportion with fractions': 'h',\n",
              " 'calculate total in proportion with fractions': 'i',\n",
              " 'finding the intersection, mixed': 'j',\n",
              " 'finding the intersection, glf': 'k',\n",
              " 'finding the intersection, sif': 'l'}"
            ]
          },
          "execution_count": 403,
          "metadata": {},
          "output_type": "execute_result"
        }
      ],
      "source": [
        "import json\n",
        "with open(\"topics.json\", \"w\") as f:\n",
        "    json.dump(topics, f, indent=2)\n",
        "topics"
      ]
    },
    {
      "cell_type": "code",
      "execution_count": 412,
      "metadata": {},
      "outputs": [
        {
          "ename": "ValueError",
          "evalue": "no matching skills",
          "output_type": "error",
          "traceback": [
            "\u001b[0;31m---------------------------------------------------------------------------\u001b[0m",
            "\u001b[0;31mValueError\u001b[0m                                Traceback (most recent call last)",
            "\u001b[1;32m/Users/zac.tamzm/Desktop/school/FYP/leetnode/pyBKT_Model_Tutorial.ipynb Cell 53\u001b[0m in \u001b[0;36m<cell line: 9>\u001b[0;34m()\u001b[0m\n\u001b[1;32m      <a href='vscode-notebook-cell:/Users/zac.tamzm/Desktop/school/FYP/leetnode/pyBKT_Model_Tutorial.ipynb#Y153sZmlsZQ%3D%3D?line=0'>1</a>\u001b[0m model2 \u001b[39m=\u001b[39m Model(seed\u001b[39m=\u001b[39m\u001b[39m42\u001b[39m, num_fits\u001b[39m=\u001b[39m\u001b[39m20\u001b[39m)\n\u001b[1;32m      <a href='vscode-notebook-cell:/Users/zac.tamzm/Desktop/school/FYP/leetnode/pyBKT_Model_Tutorial.ipynb#Y153sZmlsZQ%3D%3D?line=2'>3</a>\u001b[0m model2\u001b[39m.\u001b[39mfit(\n\u001b[1;32m      <a href='vscode-notebook-cell:/Users/zac.tamzm/Desktop/school/FYP/leetnode/pyBKT_Model_Tutorial.ipynb#Y153sZmlsZQ%3D%3D?line=3'>4</a>\u001b[0m     data\u001b[39m=\u001b[39mmy_df,\n\u001b[1;32m      <a href='vscode-notebook-cell:/Users/zac.tamzm/Desktop/school/FYP/leetnode/pyBKT_Model_Tutorial.ipynb#Y153sZmlsZQ%3D%3D?line=4'>5</a>\u001b[0m     defaults\u001b[39m=\u001b[39mdefaults,\n\u001b[1;32m      <a href='vscode-notebook-cell:/Users/zac.tamzm/Desktop/school/FYP/leetnode/pyBKT_Model_Tutorial.ipynb#Y153sZmlsZQ%3D%3D?line=5'>6</a>\u001b[0m     forgets\u001b[39m=\u001b[39m\u001b[39mTrue\u001b[39;00m,\n\u001b[1;32m      <a href='vscode-notebook-cell:/Users/zac.tamzm/Desktop/school/FYP/leetnode/pyBKT_Model_Tutorial.ipynb#Y153sZmlsZQ%3D%3D?line=6'>7</a>\u001b[0m )\n\u001b[0;32m----> <a href='vscode-notebook-cell:/Users/zac.tamzm/Desktop/school/FYP/leetnode/pyBKT_Model_Tutorial.ipynb#Y153sZmlsZQ%3D%3D?line=8'>9</a>\u001b[0m preds \u001b[39m=\u001b[39m model2\u001b[39m.\u001b[39;49mpredict(data\u001b[39m=\u001b[39;49mmy_df)\n\u001b[1;32m     <a href='vscode-notebook-cell:/Users/zac.tamzm/Desktop/school/FYP/leetnode/pyBKT_Model_Tutorial.ipynb#Y153sZmlsZQ%3D%3D?line=9'>10</a>\u001b[0m preds\u001b[39m.\u001b[39mhead()\n",
            "File \u001b[0;32m~/opt/anaconda3/envs/fyp/lib/python3.9/site-packages/pyBKT-1.4-py3.9-macosx-10.9-x86_64.egg/pyBKT/models/Model.py:145\u001b[0m, in \u001b[0;36mModel.predict\u001b[0;34m(self, data_path, data)\u001b[0m\n\u001b[1;32m    143\u001b[0m \u001b[39mif\u001b[39;00m \u001b[39mself\u001b[39m\u001b[39m.\u001b[39mfit_model \u001b[39mis\u001b[39;00m \u001b[39mNone\u001b[39;00m:\n\u001b[1;32m    144\u001b[0m     \u001b[39mraise\u001b[39;00m \u001b[39mValueError\u001b[39;00m(\u001b[39m\"\u001b[39m\u001b[39mmodel has not been fitted yet\u001b[39m\u001b[39m\"\u001b[39m)\n\u001b[0;32m--> 145\u001b[0m all_data, df \u001b[39m=\u001b[39m \u001b[39mself\u001b[39;49m\u001b[39m.\u001b[39;49m_data_helper(data_path \u001b[39m=\u001b[39;49m data_path, data \u001b[39m=\u001b[39;49m data,\n\u001b[1;32m    146\u001b[0m                      defaults \u001b[39m=\u001b[39;49m \u001b[39mself\u001b[39;49m\u001b[39m.\u001b[39;49mdefaults, skills \u001b[39m=\u001b[39;49m \u001b[39mself\u001b[39;49m\u001b[39m.\u001b[39;49mskills,\n\u001b[1;32m    147\u001b[0m                      model_type \u001b[39m=\u001b[39;49m \u001b[39mself\u001b[39;49m\u001b[39m.\u001b[39;49mmodel_type, gs_ref \u001b[39m=\u001b[39;49m \u001b[39mself\u001b[39;49m\u001b[39m.\u001b[39;49mfit_model,\n\u001b[1;32m    148\u001b[0m                      resource_ref \u001b[39m=\u001b[39;49m \u001b[39mself\u001b[39;49m\u001b[39m.\u001b[39;49mfit_model,\n\u001b[1;32m    149\u001b[0m                      return_df \u001b[39m=\u001b[39;49m \u001b[39mTrue\u001b[39;49;00m)\n\u001b[1;32m    150\u001b[0m \u001b[39m# default best effort prediction of 0.5\u001b[39;00m\n\u001b[1;32m    151\u001b[0m df[\u001b[39m'\u001b[39m\u001b[39mcorrect_predictions\u001b[39m\u001b[39m'\u001b[39m] \u001b[39m=\u001b[39m \u001b[39m0.5\u001b[39m\n",
            "File \u001b[0;32m~/opt/anaconda3/envs/fyp/lib/python3.9/site-packages/pyBKT-1.4-py3.9-macosx-10.9-x86_64.egg/pyBKT/models/Model.py:384\u001b[0m, in \u001b[0;36mModel._data_helper\u001b[0;34m(self, data_path, data, defaults, skills, model_type, gs_ref, resource_ref, return_df, folds)\u001b[0m\n\u001b[1;32m    381\u001b[0m     data_p \u001b[39m=\u001b[39m data_helper\u001b[39m.\u001b[39mconvert_data(data_path, skills, defaults \u001b[39m=\u001b[39m defaults, model_type \u001b[39m=\u001b[39m model_type, \n\u001b[1;32m    382\u001b[0m                                       gs_refs \u001b[39m=\u001b[39m gs_ref, resource_refs \u001b[39m=\u001b[39m resource_ref, return_df \u001b[39m=\u001b[39m return_df, folds \u001b[39m=\u001b[39m folds)\n\u001b[1;32m    383\u001b[0m \u001b[39melif\u001b[39;00m \u001b[39misinstance\u001b[39m(data, pd\u001b[39m.\u001b[39mDataFrame):\n\u001b[0;32m--> 384\u001b[0m     data_p \u001b[39m=\u001b[39m data_helper\u001b[39m.\u001b[39;49mconvert_data(data, skills, defaults \u001b[39m=\u001b[39;49m defaults, model_type \u001b[39m=\u001b[39;49m model_type,\n\u001b[1;32m    385\u001b[0m                                         gs_refs \u001b[39m=\u001b[39;49m gs_ref, resource_refs \u001b[39m=\u001b[39;49m resource_ref, return_df \u001b[39m=\u001b[39;49m return_df, folds \u001b[39m=\u001b[39;49m folds)\n\u001b[1;32m    386\u001b[0m \u001b[39mif\u001b[39;00m \u001b[39mnot\u001b[39;00m return_df:\n\u001b[1;32m    387\u001b[0m     \u001b[39mfor\u001b[39;00m d \u001b[39min\u001b[39;00m data_p\u001b[39m.\u001b[39mvalues():\n",
            "File \u001b[0;32m~/opt/anaconda3/envs/fyp/lib/python3.9/site-packages/pyBKT-1.4-py3.9-macosx-10.9-x86_64.egg/pyBKT/util/data_helper.py:133\u001b[0m, in \u001b[0;36mconvert_data\u001b[0;34m(url, skill_name, defaults, model_type, gs_refs, resource_refs, return_df, folds)\u001b[0m\n\u001b[1;32m    131\u001b[0m all_skills \u001b[39m=\u001b[39m all_skills[all_skills\u001b[39m.\u001b[39mstr\u001b[39m.\u001b[39mmatch(skill_name)\u001b[39m.\u001b[39mastype(\u001b[39mbool\u001b[39m)]\n\u001b[1;32m    132\u001b[0m \u001b[39mif\u001b[39;00m all_skills\u001b[39m.\u001b[39mempty:\n\u001b[0;32m--> 133\u001b[0m     \u001b[39mraise\u001b[39;00m \u001b[39mValueError\u001b[39;00m(\u001b[39m\"\u001b[39m\u001b[39mno matching skills\u001b[39m\u001b[39m\"\u001b[39m)\n\u001b[1;32m    134\u001b[0m \u001b[39mfor\u001b[39;00m skill_ \u001b[39min\u001b[39;00m all_skills:\n\u001b[1;32m    136\u001b[0m     \u001b[39mif\u001b[39;00m resource_refs \u001b[39mis\u001b[39;00m \u001b[39mNone\u001b[39;00m \u001b[39mor\u001b[39;00m skill_ \u001b[39mnot\u001b[39;00m \u001b[39min\u001b[39;00m resource_refs:\n",
            "\u001b[0;31mValueError\u001b[0m: no matching skills"
          ]
        }
      ],
      "source": [
        "model2 = Model(seed=42, num_fits=20)\n",
        "\n",
        "model2.fit(\n",
        "    data=my_df,\n",
        "    defaults=defaults,\n",
        "    forgets=True,\n",
        ")\n",
        "\n",
        "preds = model2.predict(data=my_df)\n",
        "preds.head()"
      ]
    },
    {
      "cell_type": "code",
      "execution_count": 407,
      "metadata": {},
      "outputs": [
        {
          "data": {
            "text/html": [
              "<div>\n",
              "<style scoped>\n",
              "    .dataframe tbody tr th:only-of-type {\n",
              "        vertical-align: middle;\n",
              "    }\n",
              "\n",
              "    .dataframe tbody tr th {\n",
              "        vertical-align: top;\n",
              "    }\n",
              "\n",
              "    .dataframe thead th {\n",
              "        text-align: right;\n",
              "    }\n",
              "</style>\n",
              "<table border=\"1\" class=\"dataframe\">\n",
              "  <thead>\n",
              "    <tr style=\"text-align: right;\">\n",
              "      <th></th>\n",
              "      <th>#</th>\n",
              "      <th>Student ID</th>\n",
              "      <th>Topic</th>\n",
              "      <th>Correct</th>\n",
              "      <th>Problem Name</th>\n",
              "      <th>correct_predictions</th>\n",
              "      <th>state_predictions</th>\n",
              "    </tr>\n",
              "  </thead>\n",
              "  <tbody>\n",
              "    <tr>\n",
              "      <th>773</th>\n",
              "      <td>112149</td>\n",
              "      <td>0I891Gg</td>\n",
              "      <td>plot non-terminating improper fraction - custom</td>\n",
              "      <td>0</td>\n",
              "      <td>RATIONAL1-014</td>\n",
              "      <td>0.51126</td>\n",
              "      <td>0.65667</td>\n",
              "    </tr>\n",
              "    <tr>\n",
              "      <th>774</th>\n",
              "      <td>112151</td>\n",
              "      <td>0I891Gg</td>\n",
              "      <td>plot imperfect radical - custom</td>\n",
              "      <td>0</td>\n",
              "      <td>RATIONAL1-041</td>\n",
              "      <td>0.26632</td>\n",
              "      <td>0.28875</td>\n",
              "    </tr>\n",
              "    <tr>\n",
              "      <th>775</th>\n",
              "      <td>112156</td>\n",
              "      <td>0I891Gg</td>\n",
              "      <td>plot terminating proper fraction - custom</td>\n",
              "      <td>0</td>\n",
              "      <td>RATIONAL1-104</td>\n",
              "      <td>0.50248</td>\n",
              "      <td>0.67380</td>\n",
              "    </tr>\n",
              "    <tr>\n",
              "      <th>776</th>\n",
              "      <td>112157</td>\n",
              "      <td>0I891Gg</td>\n",
              "      <td>plot pi - custom</td>\n",
              "      <td>1</td>\n",
              "      <td>RATIONAL1-122</td>\n",
              "      <td>0.62650</td>\n",
              "      <td>0.67014</td>\n",
              "    </tr>\n",
              "    <tr>\n",
              "      <th>777</th>\n",
              "      <td>112159</td>\n",
              "      <td>0I891Gg</td>\n",
              "      <td>plot terminating proper fraction - custom</td>\n",
              "      <td>1</td>\n",
              "      <td>RATIONAL1-180</td>\n",
              "      <td>0.44970</td>\n",
              "      <td>0.54858</td>\n",
              "    </tr>\n",
              "  </tbody>\n",
              "</table>\n",
              "</div>"
            ],
            "text/plain": [
              "          # Student ID                                            Topic  \\\n",
              "773  112149    0I891Gg  plot non-terminating improper fraction - custom   \n",
              "774  112151    0I891Gg                  plot imperfect radical - custom   \n",
              "775  112156    0I891Gg        plot terminating proper fraction - custom   \n",
              "776  112157    0I891Gg                                 plot pi - custom   \n",
              "777  112159    0I891Gg        plot terminating proper fraction - custom   \n",
              "\n",
              "     Correct   Problem Name  correct_predictions  state_predictions  \n",
              "773        0  RATIONAL1-014              0.51126            0.65667  \n",
              "774        0  RATIONAL1-041              0.26632            0.28875  \n",
              "775        0  RATIONAL1-104              0.50248            0.67380  \n",
              "776        1  RATIONAL1-122              0.62650            0.67014  \n",
              "777        1  RATIONAL1-180              0.44970            0.54858  "
            ]
          },
          "execution_count": 407,
          "metadata": {},
          "output_type": "execute_result"
        }
      ],
      "source": [
        "preds[preds[\"Student ID\"] == \"0I891Gg\"].head()"
      ]
    },
    {
      "cell_type": "code",
      "execution_count": 408,
      "metadata": {},
      "outputs": [
        {
          "data": {
            "text/html": [
              "<div>\n",
              "<style scoped>\n",
              "    .dataframe tbody tr th:only-of-type {\n",
              "        vertical-align: middle;\n",
              "    }\n",
              "\n",
              "    .dataframe tbody tr th {\n",
              "        vertical-align: top;\n",
              "    }\n",
              "\n",
              "    .dataframe thead th {\n",
              "        text-align: right;\n",
              "    }\n",
              "</style>\n",
              "<table border=\"1\" class=\"dataframe\">\n",
              "  <thead>\n",
              "    <tr style=\"text-align: right;\">\n",
              "      <th></th>\n",
              "      <th>#</th>\n",
              "      <th>Student ID</th>\n",
              "      <th>Topic</th>\n",
              "      <th>Correct</th>\n",
              "      <th>Problem Name</th>\n",
              "      <th>correct_predictions</th>\n",
              "      <th>state_predictions</th>\n",
              "    </tr>\n",
              "  </thead>\n",
              "  <tbody>\n",
              "    <tr>\n",
              "      <th>1961</th>\n",
              "      <td>308759</td>\n",
              "      <td>zt5vuLM</td>\n",
              "      <td>plot imperfect radical - custom</td>\n",
              "      <td>0</td>\n",
              "      <td>RATIONAL1-184</td>\n",
              "      <td>0.26632</td>\n",
              "      <td>0.28875</td>\n",
              "    </tr>\n",
              "    <tr>\n",
              "      <th>1962</th>\n",
              "      <td>308761</td>\n",
              "      <td>zt5vuLM</td>\n",
              "      <td>plot whole number - custom</td>\n",
              "      <td>1</td>\n",
              "      <td>RATIONAL1-298</td>\n",
              "      <td>0.89792</td>\n",
              "      <td>0.91971</td>\n",
              "    </tr>\n",
              "    <tr>\n",
              "      <th>1963</th>\n",
              "      <td>308763</td>\n",
              "      <td>zt5vuLM</td>\n",
              "      <td>plot terminating proper fraction - custom</td>\n",
              "      <td>1</td>\n",
              "      <td>RATIONAL1-253</td>\n",
              "      <td>0.50248</td>\n",
              "      <td>0.67380</td>\n",
              "    </tr>\n",
              "    <tr>\n",
              "      <th>1964</th>\n",
              "      <td>308766</td>\n",
              "      <td>zt5vuLM</td>\n",
              "      <td>plot imperfect radical - custom</td>\n",
              "      <td>0</td>\n",
              "      <td>RATIONAL1-279</td>\n",
              "      <td>0.22740</td>\n",
              "      <td>0.22977</td>\n",
              "    </tr>\n",
              "    <tr>\n",
              "      <th>1965</th>\n",
              "      <td>308768</td>\n",
              "      <td>zt5vuLM</td>\n",
              "      <td>plot pi - custom</td>\n",
              "      <td>0</td>\n",
              "      <td>RATIONAL1-045</td>\n",
              "      <td>0.62650</td>\n",
              "      <td>0.67014</td>\n",
              "    </tr>\n",
              "  </tbody>\n",
              "</table>\n",
              "</div>"
            ],
            "text/plain": [
              "           # Student ID                                      Topic  Correct  \\\n",
              "1961  308759    zt5vuLM            plot imperfect radical - custom        0   \n",
              "1962  308761    zt5vuLM                 plot whole number - custom        1   \n",
              "1963  308763    zt5vuLM  plot terminating proper fraction - custom        1   \n",
              "1964  308766    zt5vuLM            plot imperfect radical - custom        0   \n",
              "1965  308768    zt5vuLM                           plot pi - custom        0   \n",
              "\n",
              "       Problem Name  correct_predictions  state_predictions  \n",
              "1961  RATIONAL1-184              0.26632            0.28875  \n",
              "1962  RATIONAL1-298              0.89792            0.91971  \n",
              "1963  RATIONAL1-253              0.50248            0.67380  \n",
              "1964  RATIONAL1-279              0.22740            0.22977  \n",
              "1965  RATIONAL1-045              0.62650            0.67014  "
            ]
          },
          "execution_count": 408,
          "metadata": {},
          "output_type": "execute_result"
        }
      ],
      "source": [
        "preds[preds[\"Student ID\"] == \"zt5vuLM\"].head()"
      ]
    },
    {
      "cell_type": "code",
      "execution_count": 409,
      "metadata": {},
      "outputs": [
        {
          "data": {
            "text/html": [
              "<div>\n",
              "<style scoped>\n",
              "    .dataframe tbody tr th:only-of-type {\n",
              "        vertical-align: middle;\n",
              "    }\n",
              "\n",
              "    .dataframe tbody tr th {\n",
              "        vertical-align: top;\n",
              "    }\n",
              "\n",
              "    .dataframe thead th {\n",
              "        text-align: right;\n",
              "    }\n",
              "</style>\n",
              "<table border=\"1\" class=\"dataframe\">\n",
              "  <thead>\n",
              "    <tr style=\"text-align: right;\">\n",
              "      <th></th>\n",
              "      <th>Student ID</th>\n",
              "      <th>Topic</th>\n",
              "      <th>Correct</th>\n",
              "      <th>Problem Name</th>\n",
              "      <th>correct_predictions</th>\n",
              "      <th>state_predictions</th>\n",
              "    </tr>\n",
              "  </thead>\n",
              "  <tbody>\n",
              "    <tr>\n",
              "      <th>0</th>\n",
              "      <td>0I891Gg</td>\n",
              "      <td>plot imperfect radical - custom</td>\n",
              "      <td>1</td>\n",
              "      <td>RATIONAL1-160</td>\n",
              "      <td>0.26632</td>\n",
              "      <td>0.28875</td>\n",
              "    </tr>\n",
              "    <tr>\n",
              "      <th>1</th>\n",
              "      <td>0I891Gg</td>\n",
              "      <td>plot pi - custom</td>\n",
              "      <td>1</td>\n",
              "      <td>RATIONAL1-160</td>\n",
              "      <td>0.62650</td>\n",
              "      <td>0.67014</td>\n",
              "    </tr>\n",
              "  </tbody>\n",
              "</table>\n",
              "</div>"
            ],
            "text/plain": [
              "  Student ID                            Topic  Correct   Problem Name  \\\n",
              "0    0I891Gg  plot imperfect radical - custom        1  RATIONAL1-160   \n",
              "1    0I891Gg                 plot pi - custom        1  RATIONAL1-160   \n",
              "\n",
              "   correct_predictions  state_predictions  \n",
              "0              0.26632            0.28875  \n",
              "1              0.62650            0.67014  "
            ]
          },
          "execution_count": 409,
          "metadata": {},
          "output_type": "execute_result"
        }
      ],
      "source": [
        "model2.predict(\n",
        "    data=pd.DataFrame(\n",
        "        [\n",
        "            # {\n",
        "            #     \"Student ID\": \"zt5vuLM\",\n",
        "            #     \"Topic\": 0,\n",
        "            #     \"Correct\": 0,\n",
        "            #     \"Problem Name\": \"RATIONAL1-221\",\n",
        "            # },\n",
        "            {\n",
        "                \"Student ID\": \"0I891Gg\",\n",
        "                \"Topic\": \"plot imperfect radical - custom\",\n",
        "                \"Correct\": 1,\n",
        "                \"Problem Name\": \"RATIONAL1-160\",\n",
        "            },\n",
        "            {\n",
        "                \"Student ID\": \"0I891Gg\",\n",
        "                \"Topic\": \"plot pi - custom\",\n",
        "                \"Correct\": 1,\n",
        "                \"Problem Name\": \"RATIONAL1-160\",\n",
        "            },\n",
        "        ]\n",
        "    )\n",
        ")"
      ]
    },
    {
      "cell_type": "code",
      "execution_count": 410,
      "metadata": {},
      "outputs": [],
      "source": [
        "model2.save(\"model-custom.pkl\")"
      ]
    },
    {
      "cell_type": "markdown",
      "metadata": {
        "id": "qkiQ1CbrWbrQ"
      },
      "source": [
        "### Model Parameter Initialization and Visualization\n",
        "\n",
        "We can initialize any of the model parameters for a particular skill's BKT model before training using `model.coef_`. Similar to SciKit Learn, `model.coef_` is a way to initialize model parameters and view them after they are fitted.\n"
      ]
    },
    {
      "cell_type": "code",
      "execution_count": 19,
      "metadata": {
        "colab": {
          "base_uri": "https://localhost:8080/"
        },
        "id": "2Ncdi9_mwnvg",
        "outputId": "5be3360c-f197-4871-fed9-0b2075f7b6b8"
      },
      "outputs": [
        {
          "data": {
            "text/plain": [
              "{'Box and Whisker': {'prior': 1e-40}}"
            ]
          },
          "execution_count": 19,
          "metadata": {},
          "output_type": "execute_result"
        }
      ],
      "source": [
        "# We initialize the prior parameter to 1e-3 for the Box and Whisker \n",
        "# skill.\n",
        "#\n",
        "# Note that if we are training a KT-IDEM (multiguess/slip) model,\n",
        "# we need to have len(guesses) == len(slips) == # of G/S classes.\n",
        "# Similarly, for multilearn models, you need len(forgets) == len(guesses)\n",
        "# corresponding to the number of learn classes.\n",
        "skill = 'Box and Whisker'\n",
        "\n",
        "model.coef_ = {skill: {'prior': 1e-40}}\n",
        "model.coef_"
      ]
    },
    {
      "cell_type": "code",
      "execution_count": 20,
      "metadata": {
        "colab": {
          "base_uri": "https://localhost:8080/"
        },
        "id": "F_loFRlsyL7q",
        "outputId": "ec962b14-1b38-49a5-fda9-c7ea67280166"
      },
      "outputs": [
        {
          "name": "stdout",
          "output_type": "stream",
          "text": [
            "Fitted Prior Value: 0.000000\n",
            "Training AUC: 0.655785\n"
          ]
        }
      ],
      "source": [
        "# Train the model with the pre-initialized parameters.\n",
        "model.fit(data_path = 'as.csv', skills = skill, multigs = True)\n",
        "low_prior_auc = model.evaluate(data_path = 'as.csv', metric = 'auc')\n",
        "\n",
        "# We can obtain the prior value by indexing into the model.coef_\n",
        "# dictionary with the skill and parameter names. \n",
        "print(\"Fitted Prior Value: %f\" % model.coef_[skill]['prior'])\n",
        "print(\"Training AUC: %f\" % low_prior_auc)"
      ]
    },
    {
      "cell_type": "code",
      "execution_count": 21,
      "metadata": {
        "colab": {
          "base_uri": "https://localhost:8080/"
        },
        "id": "xdGClHCLZuyr",
        "outputId": "39400706-5849-4f4d-b0dc-847a5f3e4e9b"
      },
      "outputs": [
        {
          "name": "stdout",
          "output_type": "stream",
          "text": [
            "Fitted Prior Value: 0.004951\n",
            "Training AUC: 0.638635\n"
          ]
        }
      ],
      "source": [
        "# Initialize the prior to be more reasonable.\n",
        "model.coef_ = {skill: {'prior': 0.5}}\n",
        "model.fit(data_path = 'as.csv', skills = skill, multigs = True)\n",
        "normal_prior_auc = model.evaluate(data_path = 'as.csv', metric = 'auc')\n",
        "\n",
        "# Print the fitted prior value and RMSE.\n",
        "print(\"Fitted Prior Value: %f\" % model.coef_[skill]['prior'])\n",
        "print(\"Training AUC: %f\" % normal_prior_auc)"
      ]
    },
    {
      "cell_type": "markdown",
      "metadata": {
        "id": "M7LEkoJXbQNf"
      },
      "source": [
        "We can visualize the parameters of our fitted model in a Pandas DataFrame once it has been fit. We can easily plot the learn, forget, guess, and slip rates for multilearn/forget and multiguess/slip models. "
      ]
    },
    {
      "cell_type": "code",
      "execution_count": 22,
      "metadata": {
        "colab": {
          "base_uri": "https://localhost:8080/",
          "height": 865
        },
        "id": "17EUFVRSbigb",
        "outputId": "b3b586d0-a727-4cb9-eaba-4cc6d65d0ab2"
      },
      "outputs": [
        {
          "data": {
            "text/html": [
              "<div>\n",
              "<style scoped>\n",
              "    .dataframe tbody tr th:only-of-type {\n",
              "        vertical-align: middle;\n",
              "    }\n",
              "\n",
              "    .dataframe tbody tr th {\n",
              "        vertical-align: top;\n",
              "    }\n",
              "\n",
              "    .dataframe thead th {\n",
              "        text-align: right;\n",
              "    }\n",
              "</style>\n",
              "<table border=\"1\" class=\"dataframe\">\n",
              "  <thead>\n",
              "    <tr style=\"text-align: right;\">\n",
              "      <th></th>\n",
              "      <th></th>\n",
              "      <th></th>\n",
              "      <th>value</th>\n",
              "    </tr>\n",
              "    <tr>\n",
              "      <th>skill</th>\n",
              "      <th>param</th>\n",
              "      <th>class</th>\n",
              "      <th></th>\n",
              "    </tr>\n",
              "  </thead>\n",
              "  <tbody>\n",
              "    <tr>\n",
              "      <th rowspan=\"25\" valign=\"top\">Box and Whisker</th>\n",
              "      <th>prior</th>\n",
              "      <th>default</th>\n",
              "      <td>0.65304</td>\n",
              "    </tr>\n",
              "    <tr>\n",
              "      <th rowspan=\"6\" valign=\"top\">learns</th>\n",
              "      <th>30059</th>\n",
              "      <td>0.59731</td>\n",
              "    </tr>\n",
              "    <tr>\n",
              "      <th>30060</th>\n",
              "      <td>0.64181</td>\n",
              "    </tr>\n",
              "    <tr>\n",
              "      <th>30799</th>\n",
              "      <td>0.53192</td>\n",
              "    </tr>\n",
              "    <tr>\n",
              "      <th>63446</th>\n",
              "      <td>0.60828</td>\n",
              "    </tr>\n",
              "    <tr>\n",
              "      <th>63447</th>\n",
              "      <td>0.56964</td>\n",
              "    </tr>\n",
              "    <tr>\n",
              "      <th>63448</th>\n",
              "      <td>0.51486</td>\n",
              "    </tr>\n",
              "    <tr>\n",
              "      <th rowspan=\"6\" valign=\"top\">guesses</th>\n",
              "      <th>30059</th>\n",
              "      <td>0.06871</td>\n",
              "    </tr>\n",
              "    <tr>\n",
              "      <th>30060</th>\n",
              "      <td>0.03370</td>\n",
              "    </tr>\n",
              "    <tr>\n",
              "      <th>30799</th>\n",
              "      <td>0.03845</td>\n",
              "    </tr>\n",
              "    <tr>\n",
              "      <th>63446</th>\n",
              "      <td>0.04668</td>\n",
              "    </tr>\n",
              "    <tr>\n",
              "      <th>63447</th>\n",
              "      <td>0.02071</td>\n",
              "    </tr>\n",
              "    <tr>\n",
              "      <th>63448</th>\n",
              "      <td>0.05630</td>\n",
              "    </tr>\n",
              "    <tr>\n",
              "      <th rowspan=\"6\" valign=\"top\">slips</th>\n",
              "      <th>30059</th>\n",
              "      <td>0.00431</td>\n",
              "    </tr>\n",
              "    <tr>\n",
              "      <th>30060</th>\n",
              "      <td>0.01190</td>\n",
              "    </tr>\n",
              "    <tr>\n",
              "      <th>30799</th>\n",
              "      <td>0.00662</td>\n",
              "    </tr>\n",
              "    <tr>\n",
              "      <th>63446</th>\n",
              "      <td>0.00917</td>\n",
              "    </tr>\n",
              "    <tr>\n",
              "      <th>63447</th>\n",
              "      <td>0.01479</td>\n",
              "    </tr>\n",
              "    <tr>\n",
              "      <th>63448</th>\n",
              "      <td>0.00707</td>\n",
              "    </tr>\n",
              "    <tr>\n",
              "      <th rowspan=\"6\" valign=\"top\">forgets</th>\n",
              "      <th>30059</th>\n",
              "      <td>0.17553</td>\n",
              "    </tr>\n",
              "    <tr>\n",
              "      <th>30060</th>\n",
              "      <td>0.16512</td>\n",
              "    </tr>\n",
              "    <tr>\n",
              "      <th>30799</th>\n",
              "      <td>0.14012</td>\n",
              "    </tr>\n",
              "    <tr>\n",
              "      <th>63446</th>\n",
              "      <td>0.19763</td>\n",
              "    </tr>\n",
              "    <tr>\n",
              "      <th>63447</th>\n",
              "      <td>0.17348</td>\n",
              "    </tr>\n",
              "    <tr>\n",
              "      <th>63448</th>\n",
              "      <td>0.26969</td>\n",
              "    </tr>\n",
              "  </tbody>\n",
              "</table>\n",
              "</div>"
            ],
            "text/plain": [
              "                                  value\n",
              "skill           param   class          \n",
              "Box and Whisker prior   default 0.65304\n",
              "                learns  30059   0.59731\n",
              "                        30060   0.64181\n",
              "                        30799   0.53192\n",
              "                        63446   0.60828\n",
              "                        63447   0.56964\n",
              "                        63448   0.51486\n",
              "                guesses 30059   0.06871\n",
              "                        30060   0.03370\n",
              "                        30799   0.03845\n",
              "                        63446   0.04668\n",
              "                        63447   0.02071\n",
              "                        63448   0.05630\n",
              "                slips   30059   0.00431\n",
              "                        30060   0.01190\n",
              "                        30799   0.00662\n",
              "                        63446   0.00917\n",
              "                        63447   0.01479\n",
              "                        63448   0.00707\n",
              "                forgets 30059   0.17553\n",
              "                        30060   0.16512\n",
              "                        30799   0.14012\n",
              "                        63446   0.19763\n",
              "                        63447   0.17348\n",
              "                        63448   0.26969"
            ]
          },
          "execution_count": 22,
          "metadata": {},
          "output_type": "execute_result"
        }
      ],
      "source": [
        "model.fit(data_path = 'as.csv', skills = skill,\n",
        "          forgets = True, multilearn = True, \n",
        "          multigs = True)\n",
        "model.params()"
      ]
    },
    {
      "cell_type": "code",
      "execution_count": 23,
      "metadata": {
        "colab": {
          "base_uri": "https://localhost:8080/",
          "height": 404
        },
        "id": "U2h7-Z1ob-w-",
        "outputId": "51b16fe9-9872-473f-84c9-71015e72cab6"
      },
      "outputs": [
        {
          "data": {
            "image/png": "[encoded data removed]",
            "text/plain": [
              "<Figure size 864x432 with 1 Axes>"
            ]
          },
          "metadata": {
            "needs_background": "light"
          },
          "output_type": "display_data"
        }
      ],
      "source": [
        "# We will get warnings for using indexing past lexsort. That's fine,\n",
        "# and we will disable these warnings.\n",
        "import warnings\n",
        "warnings.simplefilter(action='ignore')\n",
        "\n",
        "# Plot the learns, forgets, slips and guesses for each of the classes.\n",
        "params = model.params()\n",
        "plt.figure(figsize = (12, 6))\n",
        "plt.plot(params.loc[(skill, 'guesses')], label = 'Guesses')\n",
        "plt.plot(params.loc[(skill, 'learns')], label = 'Learns')\n",
        "plt.plot(params.loc[(skill, 'forgets')], label = 'Forgets')\n",
        "plt.plot(params.loc[(skill, 'slips')], label = 'Slips')\n",
        "plt.xlabel('Template ID')\n",
        "plt.ylabel('Rate')\n",
        "plt.title('BKT Parameters per Template ID Class')\n",
        "plt.legend();"
      ]
    },
    {
      "cell_type": "markdown",
      "metadata": {
        "id": "KjKaP64rdzyy"
      },
      "source": [
        "### Extended Data and Model Configuration\n",
        "\n",
        "Models can get excessively long, whether it's due to the number of model variants used, the number of folds/seed/metric for crossvalidation, data path length, etc.\n",
        "\n",
        "We create a configuration dictionary that describes all the parameters we will pass in. Note that this is not a pyBKT feature, but actually just a Python feature that not many realize is very powerful!"
      ]
    },
    {
      "cell_type": "code",
      "execution_count": 24,
      "metadata": {
        "colab": {
          "base_uri": "https://localhost:8080/",
          "height": 143
        },
        "id": "5zN9mVmAzHcH",
        "outputId": "cd23cb82-71ce-417c-82ab-9a37e3c43703"
      },
      "outputs": [
        {
          "data": {
            "text/html": [
              "<div>\n",
              "<style scoped>\n",
              "    .dataframe tbody tr th:only-of-type {\n",
              "        vertical-align: middle;\n",
              "    }\n",
              "\n",
              "    .dataframe tbody tr th {\n",
              "        vertical-align: top;\n",
              "    }\n",
              "\n",
              "    .dataframe thead th {\n",
              "        text-align: right;\n",
              "    }\n",
              "</style>\n",
              "<table border=\"1\" class=\"dataframe\">\n",
              "  <thead>\n",
              "    <tr style=\"text-align: right;\">\n",
              "      <th></th>\n",
              "      <th>accuracy</th>\n",
              "    </tr>\n",
              "    <tr>\n",
              "      <th>skill</th>\n",
              "      <th></th>\n",
              "    </tr>\n",
              "  </thead>\n",
              "  <tbody>\n",
              "    <tr>\n",
              "      <th>Circle Graph</th>\n",
              "      <td>0.67881</td>\n",
              "    </tr>\n",
              "    <tr>\n",
              "      <th>Box and Whisker</th>\n",
              "      <td>0.75615</td>\n",
              "    </tr>\n",
              "  </tbody>\n",
              "</table>\n",
              "</div>"
            ],
            "text/plain": [
              "                 accuracy\n",
              "skill                    \n",
              "Circle Graph      0.67881\n",
              "Box and Whisker   0.75615"
            ]
          },
          "execution_count": 24,
          "metadata": {},
          "output_type": "execute_result"
        }
      ],
      "source": [
        "config = {'multigs': True,\n",
        "          'multilearn': True,\n",
        "          'skills': ['Box and Whisker', 'Circle Graph'],\n",
        "          'forgets': True,\n",
        "          'metric': 'accuracy',\n",
        "          'folds': 4,\n",
        "          'seed': 42 * 42}\n",
        "model.crossvalidate(data_path = 'as.csv', **config)"
      ]
    },
    {
      "cell_type": "markdown",
      "metadata": {
        "id": "8-jO3q1DeoIS"
      },
      "source": [
        "For other non-Assistments/CogTutor style datasets, we will need to specify the\n",
        "columns corresponding to each required column (i.e. the user ID, correct/incorrect). This is because pyBKT only supports the automatic inference of column names for the AS/CT datasets.\n",
        "\n",
        "For that, we use a defaults dictionary or specify parameters for each model variant."
      ]
    },
    {
      "cell_type": "code",
      "execution_count": 25,
      "metadata": {
        "colab": {
          "base_uri": "https://localhost:8080/"
        },
        "id": "_gSIMrsEGKFK",
        "outputId": "02c332d3-095a-4013-e397-78f7d96be57d"
      },
      "outputs": [
        {
          "data": {
            "text/plain": [
              "{'order_id': 'custom_order',\n",
              " 'skill_name': 'custom_skill',\n",
              " 'correct': 'custom_answer',\n",
              " 'user_id': 'custom_student_id',\n",
              " 'multigs': 'custom_gs_classes'}"
            ]
          },
          "execution_count": 25,
          "metadata": {},
          "output_type": "execute_result"
        }
      ],
      "source": [
        "# Note that this means that the order_id specified by the column named\n",
        "# custom_order in our custom dataset, the skill_name is specified by the \n",
        "# custom_skill column in our custom dataset, and so on.\n",
        "defaults = {'order_id': 'custom_order', \n",
        "            'skill_name': 'custom_skill', \n",
        "            'correct': 'custom_answer',\n",
        "            'user_id': 'custom_student_id'}\n",
        "\n",
        "# This defaults dictionary can also contain columns specifying\n",
        "# what columns correspond to the desired guess/slip classes, etc.\n",
        "defaults['multigs'] = 'custom_gs_classes'\n",
        "\n",
        "# Our final column mapping is:\n",
        "defaults"
      ]
    },
    {
      "cell_type": "code",
      "execution_count": 26,
      "metadata": {
        "colab": {
          "base_uri": "https://localhost:8080/",
          "height": 206
        },
        "id": "329sl4izH9RE",
        "outputId": "94387358-6576-482f-bb48-c83f2b450fe9"
      },
      "outputs": [
        {
          "data": {
            "text/html": [
              "<div>\n",
              "<style scoped>\n",
              "    .dataframe tbody tr th:only-of-type {\n",
              "        vertical-align: middle;\n",
              "    }\n",
              "\n",
              "    .dataframe tbody tr th {\n",
              "        vertical-align: top;\n",
              "    }\n",
              "\n",
              "    .dataframe thead th {\n",
              "        text-align: right;\n",
              "    }\n",
              "</style>\n",
              "<table border=\"1\" class=\"dataframe\">\n",
              "  <thead>\n",
              "    <tr style=\"text-align: right;\">\n",
              "      <th></th>\n",
              "      <th>custom_order</th>\n",
              "      <th>custom_student_id</th>\n",
              "      <th>custom_skill</th>\n",
              "      <th>custom_answer</th>\n",
              "      <th>custom_gs_classes</th>\n",
              "    </tr>\n",
              "  </thead>\n",
              "  <tbody>\n",
              "    <tr>\n",
              "      <th>773</th>\n",
              "      <td>112149</td>\n",
              "      <td>0I891Gg</td>\n",
              "      <td>Plot non-terminating improper fraction (Custom)</td>\n",
              "      <td>0</td>\n",
              "      <td>RATIONAL1-014</td>\n",
              "    </tr>\n",
              "    <tr>\n",
              "      <th>774</th>\n",
              "      <td>112151</td>\n",
              "      <td>0I891Gg</td>\n",
              "      <td>Plot imperfect radical (Custom)</td>\n",
              "      <td>0</td>\n",
              "      <td>RATIONAL1-041</td>\n",
              "    </tr>\n",
              "    <tr>\n",
              "      <th>775</th>\n",
              "      <td>112156</td>\n",
              "      <td>0I891Gg</td>\n",
              "      <td>Plot terminating proper fraction (Custom)</td>\n",
              "      <td>0</td>\n",
              "      <td>RATIONAL1-104</td>\n",
              "    </tr>\n",
              "    <tr>\n",
              "      <th>776</th>\n",
              "      <td>112157</td>\n",
              "      <td>0I891Gg</td>\n",
              "      <td>Plot pi (Custom)</td>\n",
              "      <td>1</td>\n",
              "      <td>RATIONAL1-122</td>\n",
              "    </tr>\n",
              "    <tr>\n",
              "      <th>777</th>\n",
              "      <td>112159</td>\n",
              "      <td>0I891Gg</td>\n",
              "      <td>Plot terminating proper fraction (Custom)</td>\n",
              "      <td>1</td>\n",
              "      <td>RATIONAL1-180</td>\n",
              "    </tr>\n",
              "  </tbody>\n",
              "</table>\n",
              "</div>"
            ],
            "text/plain": [
              "     custom_order custom_student_id  \\\n",
              "773        112149           0I891Gg   \n",
              "774        112151           0I891Gg   \n",
              "775        112156           0I891Gg   \n",
              "776        112157           0I891Gg   \n",
              "777        112159           0I891Gg   \n",
              "\n",
              "                                        custom_skill  custom_answer  \\\n",
              "773  Plot non-terminating improper fraction (Custom)              0   \n",
              "774                  Plot imperfect radical (Custom)              0   \n",
              "775        Plot terminating proper fraction (Custom)              0   \n",
              "776                                 Plot pi (Custom)              1   \n",
              "777        Plot terminating proper fraction (Custom)              1   \n",
              "\n",
              "    custom_gs_classes  \n",
              "773     RATIONAL1-014  \n",
              "774     RATIONAL1-041  \n",
              "775     RATIONAL1-104  \n",
              "776     RATIONAL1-122  \n",
              "777     RATIONAL1-180  "
            ]
          },
          "execution_count": 26,
          "metadata": {},
          "output_type": "execute_result"
        }
      ],
      "source": [
        "# We'll use this mapping with the modified CogTutor dataset with the names\n",
        "# we chose for the columns.\n",
        "#\n",
        "# Note that Row is the order ID (order_id), KC(Default) is the \n",
        "# skill name (skill_name), Correct First Attempt is correct, and \n",
        "# Problem Name is the corresponding guess/slip class column.\n",
        "\n",
        "columns = ['Row', 'Anon Student Id', 'KC(Default)', \n",
        "           'Correct First Attempt', 'Problem Name']\n",
        "my_df = ct_df[columns]\n",
        "my_df.columns = ['custom_order', 'custom_student_id',\n",
        "                 'custom_skill', 'custom_answer',\n",
        "                 'custom_gs_classes']\n",
        "my_df['custom_skill'] += ' (Custom)'\n",
        "my_df.head(5)"
      ]
    },
    {
      "cell_type": "code",
      "execution_count": 27,
      "metadata": {
        "colab": {
          "base_uri": "https://localhost:8080/",
          "height": 457
        },
        "id": "mjD0bbpVIUIu",
        "outputId": "91f10092-5c6e-4998-affd-2895355bd6f0"
      },
      "outputs": [
        {
          "data": {
            "text/html": [
              "<div>\n",
              "<style scoped>\n",
              "    .dataframe tbody tr th:only-of-type {\n",
              "        vertical-align: middle;\n",
              "    }\n",
              "\n",
              "    .dataframe tbody tr th {\n",
              "        vertical-align: top;\n",
              "    }\n",
              "\n",
              "    .dataframe thead th {\n",
              "        text-align: right;\n",
              "    }\n",
              "</style>\n",
              "<table border=\"1\" class=\"dataframe\">\n",
              "  <thead>\n",
              "    <tr style=\"text-align: right;\">\n",
              "      <th></th>\n",
              "      <th>auc</th>\n",
              "    </tr>\n",
              "    <tr>\n",
              "      <th>skill</th>\n",
              "      <th></th>\n",
              "    </tr>\n",
              "  </thead>\n",
              "  <tbody>\n",
              "    <tr>\n",
              "      <th>Plot non-terminating improper fraction (Custom)</th>\n",
              "      <td>0.64389</td>\n",
              "    </tr>\n",
              "    <tr>\n",
              "      <th>Plot imperfect radical (Custom)</th>\n",
              "      <td>0.64034</td>\n",
              "    </tr>\n",
              "    <tr>\n",
              "      <th>Plot terminating proper fraction (Custom)</th>\n",
              "      <td>0.57167</td>\n",
              "    </tr>\n",
              "    <tr>\n",
              "      <th>Plot pi (Custom)</th>\n",
              "      <td>0.57181</td>\n",
              "    </tr>\n",
              "    <tr>\n",
              "      <th>Plot whole number (Custom)</th>\n",
              "      <td>0.51454</td>\n",
              "    </tr>\n",
              "    <tr>\n",
              "      <th>Plot decimal - thousandths (Custom)</th>\n",
              "      <td>0.62338</td>\n",
              "    </tr>\n",
              "    <tr>\n",
              "      <th>Calculate unit rate (Custom)</th>\n",
              "      <td>0.59671</td>\n",
              "    </tr>\n",
              "    <tr>\n",
              "      <th>Calculate part in proportion with fractions (Custom)</th>\n",
              "      <td>0.67297</td>\n",
              "    </tr>\n",
              "    <tr>\n",
              "      <th>Calculate total in proportion with fractions (Custom)</th>\n",
              "      <td>0.70334</td>\n",
              "    </tr>\n",
              "    <tr>\n",
              "      <th>Finding the intersection, Mixed (Custom)</th>\n",
              "      <td>0.54178</td>\n",
              "    </tr>\n",
              "    <tr>\n",
              "      <th>Finding the intersection, GLF (Custom)</th>\n",
              "      <td>0.59456</td>\n",
              "    </tr>\n",
              "    <tr>\n",
              "      <th>Finding the intersection, SIF (Custom)</th>\n",
              "      <td>0.55882</td>\n",
              "    </tr>\n",
              "  </tbody>\n",
              "</table>\n",
              "</div>"
            ],
            "text/plain": [
              "                                                       auc\n",
              "skill                                                     \n",
              "Plot non-terminating improper fraction (Custom)    0.64389\n",
              "Plot imperfect radical (Custom)                    0.64034\n",
              "Plot terminating proper fraction (Custom)          0.57167\n",
              "Plot pi (Custom)                                   0.57181\n",
              "Plot whole number (Custom)                         0.51454\n",
              "Plot decimal - thousandths (Custom)                0.62338\n",
              "Calculate unit rate (Custom)                       0.59671\n",
              "Calculate part in proportion with fractions (Cu... 0.67297\n",
              "Calculate total in proportion with fractions (C... 0.70334\n",
              "Finding the intersection, Mixed (Custom)           0.54178\n",
              "Finding the intersection, GLF (Custom)             0.59456\n",
              "Finding the intersection, SIF (Custom)             0.55882"
            ]
          },
          "execution_count": 27,
          "metadata": {},
          "output_type": "execute_result"
        }
      ],
      "source": [
        "# We can crossvalidate/fit given these default column mappings.\n",
        "model.crossvalidate(data = my_df, metric = 'auc',\n",
        "                    defaults = defaults)"
      ]
    },
    {
      "cell_type": "markdown",
      "metadata": {
        "id": "FlNY_s5ThMrm"
      },
      "source": [
        "### Sample Case Studies"
      ]
    },
    {
      "cell_type": "code",
      "execution_count": 28,
      "metadata": {
        "colab": {
          "base_uri": "https://localhost:8080/",
          "height": 269
        },
        "id": "hlvUaJXBV2S3",
        "outputId": "282a3fca-f6ff-4d56-a551-09e12c101e1b"
      },
      "outputs": [
        {
          "data": {
            "text/html": [
              "<div>\n",
              "<style scoped>\n",
              "    .dataframe tbody tr th:only-of-type {\n",
              "        vertical-align: middle;\n",
              "    }\n",
              "\n",
              "    .dataframe tbody tr th {\n",
              "        vertical-align: top;\n",
              "    }\n",
              "\n",
              "    .dataframe thead th {\n",
              "        text-align: right;\n",
              "    }\n",
              "</style>\n",
              "<table border=\"1\" class=\"dataframe\">\n",
              "  <thead>\n",
              "    <tr style=\"text-align: right;\">\n",
              "      <th></th>\n",
              "      <th>RMSE</th>\n",
              "    </tr>\n",
              "    <tr>\n",
              "      <th>model type</th>\n",
              "      <th></th>\n",
              "    </tr>\n",
              "  </thead>\n",
              "  <tbody>\n",
              "    <tr>\n",
              "      <th>simple</th>\n",
              "      <td>0.33123</td>\n",
              "    </tr>\n",
              "    <tr>\n",
              "      <th>multilearn</th>\n",
              "      <td>0.32947</td>\n",
              "    </tr>\n",
              "    <tr>\n",
              "      <th>multigs</th>\n",
              "      <td>0.33994</td>\n",
              "    </tr>\n",
              "    <tr>\n",
              "      <th>forgets</th>\n",
              "      <td>0.27899</td>\n",
              "    </tr>\n",
              "    <tr>\n",
              "      <th>multigs + forgets</th>\n",
              "      <td>0.31429</td>\n",
              "    </tr>\n",
              "    <tr>\n",
              "      <th>multilearn + forgets</th>\n",
              "      <td>0.26900</td>\n",
              "    </tr>\n",
              "  </tbody>\n",
              "</table>\n",
              "</div>"
            ],
            "text/plain": [
              "                        RMSE\n",
              "model type                  \n",
              "simple               0.33123\n",
              "multilearn           0.32947\n",
              "multigs              0.33994\n",
              "forgets              0.27899\n",
              "multigs + forgets    0.31429\n",
              "multilearn + forgets 0.26900"
            ]
          },
          "execution_count": 28,
          "metadata": {},
          "output_type": "execute_result"
        }
      ],
      "source": [
        "# Question 1: Which model variant has the smallest training loss for \n",
        "# \"Venn Diagram\" in as.csv?\n",
        "models = {}\n",
        "\n",
        "model = Model(seed = 42, num_fits = 1)\n",
        "model.fit(data_path=\"as.csv\", skills=\"Venn Diagram\")\n",
        "models['simple'] = model.evaluate(data_path=\"as.csv\")\n",
        "model.fit(data_path=\"as.csv\", skills=\"Venn Diagram\", multilearn=True)\n",
        "models['multilearn'] = model.evaluate(data_path=\"as.csv\")\n",
        "model.fit(data_path=\"as.csv\", skills=\"Venn Diagram\", multigs=True)\n",
        "models['multigs'] = model.evaluate(data_path=\"as.csv\")\n",
        "model.fit(data_path=\"as.csv\", skills=\"Venn Diagram\", forgets=True)\n",
        "models['forgets'] = model.evaluate(data_path=\"as.csv\")\n",
        "model.fit(data_path=\"as.csv\", skills=\"Venn Diagram\", forgets=True, \n",
        "          multigs = True)\n",
        "models['multigs + forgets'] = model.evaluate(data_path=\"as.csv\")\n",
        "model.fit(data_path=\"as.csv\", skills=\"Venn Diagram\", forgets=True,\n",
        "          multilearn = True)\n",
        "models['multilearn + forgets'] = model.evaluate(data_path=\"as.csv\")\n",
        "\n",
        "df = pd.DataFrame(models.items())\n",
        "df.columns = ['model type', 'RMSE']\n",
        "df.set_index('model type')"
      ]
    },
    {
      "cell_type": "code",
      "execution_count": 29,
      "metadata": {
        "colab": {
          "base_uri": "https://localhost:8080/"
        },
        "id": "aMVhqxjSXd9P",
        "outputId": "228d8311-3082-4d99-92dc-398eca9903f5"
      },
      "outputs": [
        {
          "name": "stdout",
          "output_type": "stream",
          "text": [
            "------------------\n",
            "SKILL: Calculate unit rate\n",
            "Basic: 0.5837764786829892\n",
            "Anon Student Id: 0.49459172246448546\n",
            "Problem Hierarchy: 0.5971043486112795\n",
            "Problem Name: 0.5663236878564233\n",
            "Problem View: 0.5909436516285229\n",
            "Step Name: 0.585660656860788\n",
            "Correct First Attempt: 0.6015851063825\n",
            "Incorrects: 0.5911573172102874\n",
            "Hints: 0.5954590325173081\n",
            "Opportunity(Default): 0.5525605433701872\n",
            "------------------\n",
            "SKILL: Calculate part in proportion with fractions\n",
            "Basic: 0.6751294025502157\n",
            "Anon Student Id: 0.5062982974014325\n",
            "Problem Hierarchy: 0.6727598074487379\n",
            "Problem Name: 0.6750707793137418\n",
            "Problem View: 0.6752029937597664\n",
            "Step Name: 0.675423861266886\n",
            "Correct First Attempt: 0.6755918707737391\n",
            "Incorrects: 0.6744690164119496\n",
            "Hints: 0.6763347902734308\n",
            "Opportunity(Default): 0.6764641585131397\n"
          ]
        }
      ],
      "source": [
        "# Question 2: Which columns work the best for the multilearn skills\n",
        "# below in ct.csv?\n",
        "\n",
        "skills = ['Calculate unit rate',\n",
        "          'Calculate part in proportion with fractions']\n",
        "column_names = [\"Anon Student Id\", \"Problem Hierarchy\", \"Problem Name\", \n",
        "                \"Problem View\", \"Step Name\", \"Correct First Attempt\", \n",
        "                \"Incorrects\", \"Hints\", \"Opportunity(Default)\"]\n",
        "model = Model(num_fits = 1)\n",
        "for skill in skills:\n",
        "  print(\"------------------\")\n",
        "  print(\"SKILL: %s\" % skill)\n",
        "  print(\"Basic:\", model.crossvalidate(data_path=\"ct.csv\", \n",
        "                                    skills=skill,\n",
        "                                    metric = 'auc').iloc[0, 0])\n",
        "  for i in column_names:\n",
        "    print(\"%s:\" % i, model.crossvalidate(data_path=\"ct.csv\", \n",
        "                                              skills=skill, \n",
        "                                              multilearn=i,\n",
        "                                              metric = 'auc').iloc[0, 0])"
      ]
    },
    {
      "cell_type": "code",
      "execution_count": 30,
      "metadata": {
        "colab": {
          "base_uri": "https://localhost:8080/",
          "height": 677
        },
        "id": "vc28HymA2NHs",
        "outputId": "7cdfcfcb-20e3-46a1-b36c-8dbeed8c5525"
      },
      "outputs": [
        {
          "name": "stdout",
          "output_type": "stream",
          "text": [
            "RMSE Improvement using Resp. Time: -0.001326\n"
          ]
        },
        {
          "data": {
            "text/html": [
              "<div>\n",
              "<style scoped>\n",
              "    .dataframe tbody tr th:only-of-type {\n",
              "        vertical-align: middle;\n",
              "    }\n",
              "\n",
              "    .dataframe tbody tr th {\n",
              "        vertical-align: top;\n",
              "    }\n",
              "\n",
              "    .dataframe thead th {\n",
              "        text-align: right;\n",
              "    }\n",
              "</style>\n",
              "<table border=\"1\" class=\"dataframe\">\n",
              "  <thead>\n",
              "    <tr style=\"text-align: right;\">\n",
              "      <th></th>\n",
              "      <th>mean learn rate</th>\n",
              "    </tr>\n",
              "    <tr>\n",
              "      <th>class</th>\n",
              "      <th></th>\n",
              "    </tr>\n",
              "  </thead>\n",
              "  <tbody>\n",
              "    <tr>\n",
              "      <th>less than 10s</th>\n",
              "      <td>0.12000</td>\n",
              "    </tr>\n",
              "    <tr>\n",
              "      <th>less than 20s</th>\n",
              "      <td>0.18328</td>\n",
              "    </tr>\n",
              "    <tr>\n",
              "      <th>less than 30s</th>\n",
              "      <td>0.18048</td>\n",
              "    </tr>\n",
              "    <tr>\n",
              "      <th>less than 40s</th>\n",
              "      <td>0.15806</td>\n",
              "    </tr>\n",
              "    <tr>\n",
              "      <th>less than 50s</th>\n",
              "      <td>0.17832</td>\n",
              "    </tr>\n",
              "    <tr>\n",
              "      <th>other</th>\n",
              "      <td>0.17500</td>\n",
              "    </tr>\n",
              "  </tbody>\n",
              "</table>\n",
              "</div>"
            ],
            "text/plain": [
              "               mean learn rate\n",
              "class                         \n",
              "less than 10s          0.12000\n",
              "less than 20s          0.18328\n",
              "less than 30s          0.18048\n",
              "less than 40s          0.15806\n",
              "less than 50s          0.17832\n",
              "other                  0.17500"
            ]
          },
          "execution_count": 30,
          "metadata": {},
          "output_type": "execute_result"
        },
        {
          "data": {
            "image/png": "[encoded data removed]",
            "text/plain": [
              "<Figure size 864x432 with 1 Axes>"
            ]
          },
          "metadata": {
            "needs_background": "light"
          },
          "output_type": "display_data"
        }
      ],
      "source": [
        "# Question 3: Does binned response time have an effect on the learn rate?\n",
        "# Does it improve the RMSE of the model compared to the normal template_id\n",
        "# based multilearn/guess?\n",
        "\n",
        "as_df = pd.read_csv('as.csv', encoding = 'latin')\n",
        "learn_maps = {0: 'less than 10s', \n",
        "              1: 'less than 20s', \n",
        "              2: 'less than 30s', \n",
        "              3: 'less than 40s', \n",
        "              4: 'less than 50s'}\n",
        "as_df['resp_t'] = (as_df['ms_first_response'] // 10000) \\\n",
        "                  .map(learn_maps).fillna('other')\n",
        "model.fit(data = as_df, multilearn = 'resp_t')\n",
        "params_df = model.params().reset_index()\n",
        "plt.figure(figsize = (12, 6))\n",
        "params_df[params_df['param'] == 'learns'].groupby('class')['value'] \\\n",
        "                                         .plot.kde(bw_method=0.2)\n",
        "plt.xlim((0, 1))\n",
        "plt.legend()\n",
        "plt.title('Frequency of Learn Rate Parameters with Response Time')\n",
        "plt.xlabel('Learn Rate')\n",
        "\n",
        "simple_rmse = model.crossvalidate(data = as_df)\n",
        "resptime_combo_rmse = model.crossvalidate(data = as_df,\n",
        "                                              multigs = 'resp_t',\n",
        "                                              multilearn = 'resp_t')\n",
        "normal_combo_rmse = model.crossvalidate(data = as_df,\n",
        "                                        multigs = True,\n",
        "                                        multilearn = True)\n",
        "rmse_diff = (resptime_combo_rmse - normal_combo_rmse)['rmse'].mean()\n",
        "print(\"RMSE Improvement using Resp. Time: %f\" % rmse_diff)\n",
        "params_df[params_df['param'] == 'learns'].groupby('class') \\\n",
        "                                         .mean()[['value']] \\\n",
        "                                         .rename(columns = {'value': \n",
        "                                                  'mean learn rate'})"
      ]
    },
    {
      "cell_type": "markdown",
      "metadata": {
        "id": "vWUoDPqDg5QM"
      },
      "source": [
        "### Summary\n",
        "\n",
        "The following is a summary of most of the key features of BKT."
      ]
    },
    {
      "cell_type": "code",
      "execution_count": 31,
      "metadata": {
        "colab": {
          "base_uri": "https://localhost:8080/",
          "height": 478
        },
        "id": "vZCxVD0zKhHh",
        "outputId": "c6a7fa98-d2ff-47bd-88df-dbd519328311"
      },
      "outputs": [
        {
          "name": "stdout",
          "output_type": "stream",
          "text": [
            "Training MAE: 0.412651\n"
          ]
        },
        {
          "data": {
            "text/html": [
              "<div>\n",
              "<style scoped>\n",
              "    .dataframe tbody tr th:only-of-type {\n",
              "        vertical-align: middle;\n",
              "    }\n",
              "\n",
              "    .dataframe tbody tr th {\n",
              "        vertical-align: top;\n",
              "    }\n",
              "\n",
              "    .dataframe thead th {\n",
              "        text-align: right;\n",
              "    }\n",
              "</style>\n",
              "<table border=\"1\" class=\"dataframe\">\n",
              "  <thead>\n",
              "    <tr style=\"text-align: right;\">\n",
              "      <th></th>\n",
              "      <th>mae</th>\n",
              "    </tr>\n",
              "    <tr>\n",
              "      <th>skill</th>\n",
              "      <th></th>\n",
              "    </tr>\n",
              "  </thead>\n",
              "  <tbody>\n",
              "    <tr>\n",
              "      <th>Plot non-terminating improper fraction</th>\n",
              "      <td>0.46776</td>\n",
              "    </tr>\n",
              "    <tr>\n",
              "      <th>Plot imperfect radical</th>\n",
              "      <td>0.38281</td>\n",
              "    </tr>\n",
              "    <tr>\n",
              "      <th>Plot terminating proper fraction</th>\n",
              "      <td>0.49291</td>\n",
              "    </tr>\n",
              "    <tr>\n",
              "      <th>Plot pi</th>\n",
              "      <td>0.42216</td>\n",
              "    </tr>\n",
              "    <tr>\n",
              "      <th>Plot whole number</th>\n",
              "      <td>0.16895</td>\n",
              "    </tr>\n",
              "    <tr>\n",
              "      <th>Plot decimal - thousandths</th>\n",
              "      <td>0.44682</td>\n",
              "    </tr>\n",
              "    <tr>\n",
              "      <th>Calculate unit rate</th>\n",
              "      <td>0.46540</td>\n",
              "    </tr>\n",
              "    <tr>\n",
              "      <th>Calculate part in proportion with fractions</th>\n",
              "      <td>0.36601</td>\n",
              "    </tr>\n",
              "    <tr>\n",
              "      <th>Calculate total in proportion with fractions</th>\n",
              "      <td>0.36145</td>\n",
              "    </tr>\n",
              "    <tr>\n",
              "      <th>Finding the intersection, Mixed</th>\n",
              "      <td>0.49393</td>\n",
              "    </tr>\n",
              "    <tr>\n",
              "      <th>Finding the intersection, GLF</th>\n",
              "      <td>0.47480</td>\n",
              "    </tr>\n",
              "    <tr>\n",
              "      <th>Finding the intersection, SIF</th>\n",
              "      <td>0.48935</td>\n",
              "    </tr>\n",
              "  </tbody>\n",
              "</table>\n",
              "</div>"
            ],
            "text/plain": [
              "                                                 mae\n",
              "skill                                               \n",
              "Plot non-terminating improper fraction       0.46776\n",
              "Plot imperfect radical                       0.38281\n",
              "Plot terminating proper fraction             0.49291\n",
              "Plot pi                                      0.42216\n",
              "Plot whole number                            0.16895\n",
              "Plot decimal - thousandths                   0.44682\n",
              "Calculate unit rate                          0.46540\n",
              "Calculate part in proportion with fractions  0.36601\n",
              "Calculate total in proportion with fractions 0.36145\n",
              "Finding the intersection, Mixed              0.49393\n",
              "Finding the intersection, GLF                0.47480\n",
              "Finding the intersection, SIF                0.48935"
            ]
          },
          "execution_count": 31,
          "metadata": {},
          "output_type": "execute_result"
        }
      ],
      "source": [
        "# Let's summarize.\n",
        "def mae(true_vals, pred_vals):\n",
        "    \"\"\" Calculates the mean absolute error. \"\"\"\n",
        "    return np.mean(np.abs(true_vals - pred_vals))\n",
        "\n",
        "# This code fetches data, fits, predicts, evaluates and crossvalidates\n",
        "# a BKT model on all skills in Cognitive Tutor. It uses the mean absolute\n",
        "# error as the desired error metric.\n",
        "model = Model(seed = 42, num_fits = 5)\n",
        "model.fit(data_path = 'ct.csv')\n",
        "preds_df = model.predict(data_path = 'ct.csv')\n",
        "mae_error = model.evaluate(data_path = 'ct.csv', metric = mae)\n",
        "cv_errors = model.crossvalidate(data_path = 'ct.csv', metric = mae)\n",
        "model.fit(data_path = 'ct.csv')\n",
        "params_df = model.params()\n",
        "print(\"Training MAE: %f\" % mae_error)\n",
        "cv_errors"
      ]
    },
    {
      "cell_type": "markdown",
      "metadata": {},
      "source": [
        "### Roster"
      ]
    },
    {
      "cell_type": "code",
      "execution_count": 347,
      "metadata": {},
      "outputs": [],
      "source": [
        "from pyBKT.models import Roster, StateType\n",
        "\n",
        "r = Roster(\n",
        "    students=[\"Alice\", \"0I891Gg\"],\n",
        "    skills=[\"0\", \"1\"],\n",
        "    model=model2,\n",
        ")"
      ]
    },
    {
      "cell_type": "code",
      "execution_count": 348,
      "metadata": {},
      "outputs": [
        {
          "name": "stdout",
          "output_type": "stream",
          "text": [
            "StateType.UNMASTERED\n",
            "0.6600204455942147\n"
          ]
        }
      ],
      "source": [
        "print(r.get_state_type(\"0\", \"0I891Gg\"))\n",
        "print(r.get_mastery_prob(\"0\", \"0I891Gg\"))"
      ]
    },
    {
      "cell_type": "code",
      "execution_count": 350,
      "metadata": {},
      "outputs": [
        {
          "name": "stdout",
          "output_type": "stream",
          "text": [
            "StateType.UNMASTERED\n",
            "0.2891945164978828\n"
          ]
        }
      ],
      "source": [
        "print(r.get_state_type(\"1\", \"Alice\"))\n",
        "print(r.get_mastery_prob(\"1\", \"Alice\"))"
      ]
    },
    {
      "cell_type": "code",
      "execution_count": 351,
      "metadata": {},
      "outputs": [
        {
          "data": {
            "text/plain": [
              "{'0': SkillRoster(2, '0', 0.95, False, Model(parallel=True, num_fits=20, seed=42, defaults={'user_id': 'Student ID', 'skill_name': 'Topic', 'correct': 'Correct', 'multigs': 'Problem Name', 'multilearn': 'Problem Name', 'multipair': 'Problem Name'})),\n",
              " '1': SkillRoster(2, '1', 0.95, False, Model(parallel=True, num_fits=20, seed=42, defaults={'user_id': 'Student ID', 'skill_name': 'Topic', 'correct': 'Correct', 'multigs': 'Problem Name', 'multilearn': 'Problem Name', 'multipair': 'Problem Name'}))}"
            ]
          },
          "execution_count": 351,
          "metadata": {},
          "output_type": "execute_result"
        }
      ],
      "source": [
        "r.skill_rosters"
      ]
    },
    {
      "cell_type": "code",
      "execution_count": 296,
      "metadata": {},
      "outputs": [
        {
          "name": "stdout",
          "output_type": "stream",
          "text": [
            "Jeff's mastery (t = 0): StateType.UNMASTERED\n",
            "Jeff's probability of mastery (t = 0): 0.010222621940854748\n",
            "Jeff's mastery (t = 1): StateType.UNMASTERED\n",
            "Jeff's probability of mastery (t = 1): 0.0901824324908311\n",
            "Jeff's mastery (t = 11): StateType.MASTERED\n",
            "Jeff's probability of mastery (t = 11): 0.9911137477595623\n",
            "Jeff has mastered the skill!\n",
            "Bob's mastery (t = 2): StateType.UNMASTERED\n",
            "Bob's probability of mastery (t = 2): 0.2109054892370994\n",
            "Both students' probabilites of correctness: {'Jeff': 0.8621073753267414, 'Bob': 0.5718107455985235}\n",
            "Both students' probabilites of mastery: {'Jeff': 0.9911137477595623, 'Bob': 0.2109054892370994}\n",
            "Sarah's correctness probability: 0.7228121155735172\n",
            "Sarah's mastery probability: 0.61674043128584\n",
            "Jeff's mastery (t' = 0): StateType.UNMASTERED\n",
            "Jeff's probability of mastery (t' = 0): 0.010222621940854748\n"
          ]
        }
      ],
      "source": [
        "from pyBKT.models import Roster, StateType\n",
        "import numpy as np\n",
        "\n",
        "# Create a backend pyBKT model and fit it on the CT data\n",
        "model = Model()\n",
        "model.fit(data_path = 'ct.csv')\n",
        "\n",
        "# Create a Roster with two students, Jeff and Bob, who are participating in the roster\n",
        "# for one skill (Calculate Unit Rate) using the pyBKT model above.\n",
        "roster = Roster(students = ['Jeff', 'Bob'], skills = 'Calculate unit rate', model = model)\n",
        "\n",
        "# Initial mastery state (prior) for Jeff, should be unmastered with low probability of mastery\n",
        "# get_state_type returns whether a student has mastered the skill or not\n",
        "# get_mastery_prob returns the probability a student has mastered the skill\n",
        "print(\"Jeff's mastery (t = 0):\", roster.get_state_type('Calculate unit rate', 'Jeff'))\n",
        "print(\"Jeff's probability of mastery (t = 0):\", roster.get_mastery_prob('Calculate unit rate', 'Jeff'))\n",
        "\n",
        "# We can update Jeff's state by adding one or more responses to a particular skill. In this case,\n",
        "# we observed a correct response for the one skill in the roster.\n",
        "jeff_new_state = roster.update_state('Calculate unit rate', 'Jeff', 1)\n",
        "\n",
        "# Check the updated mastery state and probability.\n",
        "print(\"Jeff's mastery (t = 1):\", roster.get_state_type('Calculate unit rate', 'Jeff'))\n",
        "print(\"Jeff's probability of mastery (t = 1):\", roster.get_mastery_prob('Calculate unit rate', 'Jeff'))\n",
        "\n",
        "# We can update his state with multiple correct responses (ten of them).\n",
        "roster.update_state('Calculate unit rate', 'Jeff', np.ones(10))\n",
        "\n",
        "# After 10 consecutive correct responses, he should have mastered the skill.\n",
        "print(\"Jeff's mastery (t = 11):\", roster.get_state_type('Calculate unit rate', 'Jeff'))\n",
        "print(\"Jeff's probability of mastery (t = 11):\", roster.get_mastery_prob('Calculate unit rate', 'Jeff'))\n",
        "\n",
        "# Programmatically check whether he has mastered the skill\n",
        "if roster.get_state_type('Calculate unit rate', 'Jeff') == StateType.MASTERED:\n",
        "    print(\"Jeff has mastered the skill!\")\n",
        "    \n",
        "# We can update Bob's state with two correct responses.\n",
        "roster.update_state('Calculate unit rate', 'Bob', np.ones(2))\n",
        "\n",
        "# He should remain unmastered.\n",
        "print(\"Bob's mastery (t = 2):\", roster.get_state_type('Calculate unit rate', 'Bob'))\n",
        "print(\"Bob's probability of mastery (t = 2):\", roster.get_mastery_prob('Calculate unit rate', 'Bob'))\n",
        "\n",
        "# We can print aggregate statistics for mastery and correctness.\n",
        "print(\"Both students' probabilites of correctness:\", roster.get_correct_probs('Calculate unit rate'))\n",
        "print(\"Both students' probabilites of mastery:\", roster.get_mastery_probs('Calculate unit rate'))\n",
        "\n",
        "# Add a new student, Sarah.\n",
        "roster.add_student('Calculate unit rate', 'Sarah')\n",
        "\n",
        "# Update Sarah's state with a sequence of correct and incorrect responses.\n",
        "sarah_new_state = roster.update_state('Calculate unit rate', 'Sarah', np.array([1, 0, 1, 0, 1, 1, 1]))\n",
        "\n",
        "# Print Sarah's correctness and mastery probability.\n",
        "print(\"Sarah's correctness probability:\", sarah_new_state.get_correct_prob())\n",
        "print(\"Sarah's mastery probability:\", sarah_new_state.get_mastery_prob())\n",
        "\n",
        "# Delete Bob from the roster.\n",
        "roster.remove_student('Calculate unit rate', 'Bob')\n",
        "\n",
        "# Reset student's state (i.e. latent and observable).\n",
        "roster.reset_state('Calculate unit rate', 'Jeff')\n",
        "\n",
        "# Jeff should be back to the initial prior as the mastery probability and should be unmastered.\n",
        "print(\"Jeff's mastery (t' = 0):\", roster.get_state_type('Calculate unit rate', 'Jeff'))\n",
        "print(\"Jeff's probability of mastery (t' = 0):\", roster.get_mastery_prob('Calculate unit rate', 'Jeff'))"
      ]
    },
    {
      "cell_type": "code",
      "execution_count": null,
      "metadata": {},
      "outputs": [],
      "source": []
    }
  ],
  "metadata": {
    "colab": {
      "collapsed_sections": [],
      "name": "pyBKT Model Tutorial.ipynb",
      "provenance": []
    },
    "kernelspec": {
      "display_name": "Python 3.10.4 ('fyp')",
      "language": "python",
      "name": "python3"
    },
    "language_info": {
      "codemirror_mode": {
        "name": "ipython",
        "version": 3
      },
      "file_extension": ".py",
      "mimetype": "text/x-python",
      "name": "python",
      "nbconvert_exporter": "python",
      "pygments_lexer": "ipython3",
      "version": "3.11.4"
    },
    "vscode": {
      "interpreter": {
        "hash": "356faf612b900e7633abe15856b4a637f3e1d854dabda1a010ea202989b708b2"
      }
    }
  },
  "nbformat": 4,
  "nbformat_minor": 0
}
